{
  "nbformat": 4,
  "nbformat_minor": 0,
  "metadata": {
    "colab": {
      "name": "Project 1- predict quality of the product.ipynb",
      "provenance": [],
      "collapsed_sections": [
        "SkFOavLb6PbZ",
        "U2SeIRMC6GZP",
        "qMJ9o1JF5Fhu",
        "XRmWHug745bl",
        "aKjDvxPC4mjc",
        "HdE5_qYU4bCA",
        "KBByAKOQ4TqE",
        "IAv4eDQbJKSK",
        "mt__Cqk44Et-",
        "JvTuPtq235y0"
      ]
    },
    "kernelspec": {
      "display_name": "Python 3",
      "name": "python3"
    },
    "widgets": {
      "application/vnd.jupyter.widget-state+json": {
        "2fbe01b166d143e592b1ebb1ad8676fb": {
          "model_module": "@jupyter-widgets/controls",
          "model_name": "HBoxModel",
          "state": {
            "_view_name": "HBoxView",
            "_dom_classes": [],
            "_model_name": "HBoxModel",
            "_view_module": "@jupyter-widgets/controls",
            "_model_module_version": "1.5.0",
            "_view_count": null,
            "_view_module_version": "1.5.0",
            "box_style": "",
            "layout": "IPY_MODEL_893ae662b3ab4f24aa2083d5b51ea0aa",
            "_model_module": "@jupyter-widgets/controls",
            "children": [
              "IPY_MODEL_292badf8f5534a2e85a8c28148b3b21e",
              "IPY_MODEL_0f7f536de2ab4fe99ada1638137aa747"
            ]
          }
        },
        "893ae662b3ab4f24aa2083d5b51ea0aa": {
          "model_module": "@jupyter-widgets/base",
          "model_name": "LayoutModel",
          "state": {
            "_view_name": "LayoutView",
            "grid_template_rows": null,
            "right": null,
            "justify_content": null,
            "_view_module": "@jupyter-widgets/base",
            "overflow": null,
            "_model_module_version": "1.2.0",
            "_view_count": null,
            "flex_flow": null,
            "width": null,
            "min_width": null,
            "border": null,
            "align_items": null,
            "bottom": null,
            "_model_module": "@jupyter-widgets/base",
            "top": null,
            "grid_column": null,
            "overflow_y": null,
            "overflow_x": null,
            "grid_auto_flow": null,
            "grid_area": null,
            "grid_template_columns": null,
            "flex": null,
            "_model_name": "LayoutModel",
            "justify_items": null,
            "grid_row": null,
            "max_height": null,
            "align_content": null,
            "visibility": null,
            "align_self": null,
            "height": null,
            "min_height": null,
            "padding": null,
            "grid_auto_rows": null,
            "grid_gap": null,
            "max_width": null,
            "order": null,
            "_view_module_version": "1.2.0",
            "grid_template_areas": null,
            "object_position": null,
            "object_fit": null,
            "grid_auto_columns": null,
            "margin": null,
            "display": null,
            "left": null
          }
        },
        "292badf8f5534a2e85a8c28148b3b21e": {
          "model_module": "@jupyter-widgets/controls",
          "model_name": "FloatProgressModel",
          "state": {
            "_view_name": "ProgressView",
            "style": "IPY_MODEL_fabd9247d9de44979ad100d5d230facc",
            "_dom_classes": [],
            "description": "Optimization Progress: 100%",
            "_model_name": "FloatProgressModel",
            "bar_style": "",
            "max": 84,
            "_view_module": "@jupyter-widgets/controls",
            "_model_module_version": "1.5.0",
            "value": 84,
            "_view_count": null,
            "_view_module_version": "1.5.0",
            "orientation": "horizontal",
            "min": 0,
            "description_tooltip": null,
            "_model_module": "@jupyter-widgets/controls",
            "layout": "IPY_MODEL_281ff08f56b548f5b09b4b8b8d0d1ec8"
          }
        },
        "0f7f536de2ab4fe99ada1638137aa747": {
          "model_module": "@jupyter-widgets/controls",
          "model_name": "HTMLModel",
          "state": {
            "_view_name": "HTMLView",
            "style": "IPY_MODEL_54022b2a78af4eda859b9f725d26d1f4",
            "_dom_classes": [],
            "description": "",
            "_model_name": "HTMLModel",
            "placeholder": "​",
            "_view_module": "@jupyter-widgets/controls",
            "_model_module_version": "1.5.0",
            "value": " 84/84 [22:44&lt;00:00, 15.66s/pipeline]",
            "_view_count": null,
            "_view_module_version": "1.5.0",
            "description_tooltip": null,
            "_model_module": "@jupyter-widgets/controls",
            "layout": "IPY_MODEL_5c2af8341edd4cb8a501dcdc494753b1"
          }
        },
        "fabd9247d9de44979ad100d5d230facc": {
          "model_module": "@jupyter-widgets/controls",
          "model_name": "ProgressStyleModel",
          "state": {
            "_view_name": "StyleView",
            "_model_name": "ProgressStyleModel",
            "description_width": "initial",
            "_view_module": "@jupyter-widgets/base",
            "_model_module_version": "1.5.0",
            "_view_count": null,
            "_view_module_version": "1.2.0",
            "bar_color": null,
            "_model_module": "@jupyter-widgets/controls"
          }
        },
        "281ff08f56b548f5b09b4b8b8d0d1ec8": {
          "model_module": "@jupyter-widgets/base",
          "model_name": "LayoutModel",
          "state": {
            "_view_name": "LayoutView",
            "grid_template_rows": null,
            "right": null,
            "justify_content": null,
            "_view_module": "@jupyter-widgets/base",
            "overflow": null,
            "_model_module_version": "1.2.0",
            "_view_count": null,
            "flex_flow": null,
            "width": null,
            "min_width": null,
            "border": null,
            "align_items": null,
            "bottom": null,
            "_model_module": "@jupyter-widgets/base",
            "top": null,
            "grid_column": null,
            "overflow_y": null,
            "overflow_x": null,
            "grid_auto_flow": null,
            "grid_area": null,
            "grid_template_columns": null,
            "flex": null,
            "_model_name": "LayoutModel",
            "justify_items": null,
            "grid_row": null,
            "max_height": null,
            "align_content": null,
            "visibility": null,
            "align_self": null,
            "height": null,
            "min_height": null,
            "padding": null,
            "grid_auto_rows": null,
            "grid_gap": null,
            "max_width": null,
            "order": null,
            "_view_module_version": "1.2.0",
            "grid_template_areas": null,
            "object_position": null,
            "object_fit": null,
            "grid_auto_columns": null,
            "margin": null,
            "display": null,
            "left": null
          }
        },
        "54022b2a78af4eda859b9f725d26d1f4": {
          "model_module": "@jupyter-widgets/controls",
          "model_name": "DescriptionStyleModel",
          "state": {
            "_view_name": "StyleView",
            "_model_name": "DescriptionStyleModel",
            "description_width": "",
            "_view_module": "@jupyter-widgets/base",
            "_model_module_version": "1.5.0",
            "_view_count": null,
            "_view_module_version": "1.2.0",
            "_model_module": "@jupyter-widgets/controls"
          }
        },
        "5c2af8341edd4cb8a501dcdc494753b1": {
          "model_module": "@jupyter-widgets/base",
          "model_name": "LayoutModel",
          "state": {
            "_view_name": "LayoutView",
            "grid_template_rows": null,
            "right": null,
            "justify_content": null,
            "_view_module": "@jupyter-widgets/base",
            "overflow": null,
            "_model_module_version": "1.2.0",
            "_view_count": null,
            "flex_flow": null,
            "width": null,
            "min_width": null,
            "border": null,
            "align_items": null,
            "bottom": null,
            "_model_module": "@jupyter-widgets/base",
            "top": null,
            "grid_column": null,
            "overflow_y": null,
            "overflow_x": null,
            "grid_auto_flow": null,
            "grid_area": null,
            "grid_template_columns": null,
            "flex": null,
            "_model_name": "LayoutModel",
            "justify_items": null,
            "grid_row": null,
            "max_height": null,
            "align_content": null,
            "visibility": null,
            "align_self": null,
            "height": null,
            "min_height": null,
            "padding": null,
            "grid_auto_rows": null,
            "grid_gap": null,
            "max_width": null,
            "order": null,
            "_view_module_version": "1.2.0",
            "grid_template_areas": null,
            "object_position": null,
            "object_fit": null,
            "grid_auto_columns": null,
            "margin": null,
            "display": null,
            "left": null
          }
        }
      }
    }
  },
  "cells": [
    {
      "cell_type": "markdown",
      "metadata": {
        "id": "vzVjweGDaDkZ"
      },
      "source": [
        "#Project - predict quality of the product:"
      ]
    },
    {
      "cell_type": "code",
      "metadata": {
        "id": "B-8K_r1JPumR"
      },
      "source": [
        "import statsmodel."
      ],
      "execution_count": null,
      "outputs": []
    },
    {
      "cell_type": "code",
      "metadata": {
        "id": "UhN2Y4X9Zv1m"
      },
      "source": [
        "import numpy as np\n",
        "import pandas as pd\n",
        "import matplotlib.pyplot as plt\n",
        "import seaborn as sns\n",
        "import missingno as msg"
      ],
      "execution_count": null,
      "outputs": []
    },
    {
      "cell_type": "code",
      "metadata": {
        "id": "CR-Ed-2WaNhq"
      },
      "source": [
        "wine=pd.read_csv('winequality-white.csv', sep = ';')"
      ],
      "execution_count": null,
      "outputs": []
    },
    {
      "cell_type": "code",
      "metadata": {
        "colab": {
          "base_uri": "https://localhost:8080/",
          "height": 215
        },
        "id": "abhCXgDSa2J3",
        "outputId": "12d7b891-924b-4513-86ef-ea288db83afe"
      },
      "source": [
        "wine.head()"
      ],
      "execution_count": null,
      "outputs": [
        {
          "output_type": "execute_result",
          "data": {
            "text/html": [
              "<div>\n",
              "<style scoped>\n",
              "    .dataframe tbody tr th:only-of-type {\n",
              "        vertical-align: middle;\n",
              "    }\n",
              "\n",
              "    .dataframe tbody tr th {\n",
              "        vertical-align: top;\n",
              "    }\n",
              "\n",
              "    .dataframe thead th {\n",
              "        text-align: right;\n",
              "    }\n",
              "</style>\n",
              "<table border=\"1\" class=\"dataframe\">\n",
              "  <thead>\n",
              "    <tr style=\"text-align: right;\">\n",
              "      <th></th>\n",
              "      <th>fixed acidity</th>\n",
              "      <th>volatile acidity</th>\n",
              "      <th>citric acid</th>\n",
              "      <th>residual sugar</th>\n",
              "      <th>chlorides</th>\n",
              "      <th>free sulfur dioxide</th>\n",
              "      <th>total sulfur dioxide</th>\n",
              "      <th>density</th>\n",
              "      <th>pH</th>\n",
              "      <th>sulphates</th>\n",
              "      <th>alcohol</th>\n",
              "      <th>quality</th>\n",
              "    </tr>\n",
              "  </thead>\n",
              "  <tbody>\n",
              "    <tr>\n",
              "      <th>0</th>\n",
              "      <td>7.0</td>\n",
              "      <td>0.27</td>\n",
              "      <td>0.36</td>\n",
              "      <td>20.7</td>\n",
              "      <td>0.045</td>\n",
              "      <td>45.0</td>\n",
              "      <td>170.0</td>\n",
              "      <td>1.0010</td>\n",
              "      <td>3.00</td>\n",
              "      <td>0.45</td>\n",
              "      <td>8.8</td>\n",
              "      <td>6</td>\n",
              "    </tr>\n",
              "    <tr>\n",
              "      <th>1</th>\n",
              "      <td>6.3</td>\n",
              "      <td>0.30</td>\n",
              "      <td>0.34</td>\n",
              "      <td>1.6</td>\n",
              "      <td>0.049</td>\n",
              "      <td>14.0</td>\n",
              "      <td>132.0</td>\n",
              "      <td>0.9940</td>\n",
              "      <td>3.30</td>\n",
              "      <td>0.49</td>\n",
              "      <td>9.5</td>\n",
              "      <td>6</td>\n",
              "    </tr>\n",
              "    <tr>\n",
              "      <th>2</th>\n",
              "      <td>8.1</td>\n",
              "      <td>0.28</td>\n",
              "      <td>0.40</td>\n",
              "      <td>6.9</td>\n",
              "      <td>0.050</td>\n",
              "      <td>30.0</td>\n",
              "      <td>97.0</td>\n",
              "      <td>0.9951</td>\n",
              "      <td>3.26</td>\n",
              "      <td>0.44</td>\n",
              "      <td>10.1</td>\n",
              "      <td>6</td>\n",
              "    </tr>\n",
              "    <tr>\n",
              "      <th>3</th>\n",
              "      <td>7.2</td>\n",
              "      <td>0.23</td>\n",
              "      <td>0.32</td>\n",
              "      <td>8.5</td>\n",
              "      <td>0.058</td>\n",
              "      <td>47.0</td>\n",
              "      <td>186.0</td>\n",
              "      <td>0.9956</td>\n",
              "      <td>3.19</td>\n",
              "      <td>0.40</td>\n",
              "      <td>9.9</td>\n",
              "      <td>6</td>\n",
              "    </tr>\n",
              "    <tr>\n",
              "      <th>4</th>\n",
              "      <td>7.2</td>\n",
              "      <td>0.23</td>\n",
              "      <td>0.32</td>\n",
              "      <td>8.5</td>\n",
              "      <td>0.058</td>\n",
              "      <td>47.0</td>\n",
              "      <td>186.0</td>\n",
              "      <td>0.9956</td>\n",
              "      <td>3.19</td>\n",
              "      <td>0.40</td>\n",
              "      <td>9.9</td>\n",
              "      <td>6</td>\n",
              "    </tr>\n",
              "  </tbody>\n",
              "</table>\n",
              "</div>"
            ],
            "text/plain": [
              "   fixed acidity  volatile acidity  citric acid  ...  sulphates  alcohol  quality\n",
              "0            7.0              0.27         0.36  ...       0.45      8.8        6\n",
              "1            6.3              0.30         0.34  ...       0.49      9.5        6\n",
              "2            8.1              0.28         0.40  ...       0.44     10.1        6\n",
              "3            7.2              0.23         0.32  ...       0.40      9.9        6\n",
              "4            7.2              0.23         0.32  ...       0.40      9.9        6\n",
              "\n",
              "[5 rows x 12 columns]"
            ]
          },
          "metadata": {
            "tags": []
          },
          "execution_count": 45
        }
      ]
    },
    {
      "cell_type": "code",
      "metadata": {
        "colab": {
          "base_uri": "https://localhost:8080/"
        },
        "id": "5-56x1Aga3iW",
        "outputId": "a885ebe8-8153-4ef1-a70a-1104e2ebfc4e"
      },
      "source": [
        "wine.shape"
      ],
      "execution_count": null,
      "outputs": [
        {
          "output_type": "execute_result",
          "data": {
            "text/plain": [
              "(4898, 12)"
            ]
          },
          "metadata": {
            "tags": []
          },
          "execution_count": 46
        }
      ]
    },
    {
      "cell_type": "code",
      "metadata": {
        "colab": {
          "base_uri": "https://localhost:8080/"
        },
        "id": "y7Q-l5x4a8Q9",
        "outputId": "4f4ba128-a6ab-4fb2-b049-eefb4c93aff0"
      },
      "source": [
        "wine.columns"
      ],
      "execution_count": null,
      "outputs": [
        {
          "output_type": "execute_result",
          "data": {
            "text/plain": [
              "Index(['fixed acidity', 'volatile acidity', 'citric acid', 'residual sugar',\n",
              "       'chlorides', 'free sulfur dioxide', 'total sulfur dioxide', 'density',\n",
              "       'pH', 'sulphates', 'alcohol', 'quality'],\n",
              "      dtype='object')"
            ]
          },
          "metadata": {
            "tags": []
          },
          "execution_count": 47
        }
      ]
    },
    {
      "cell_type": "code",
      "metadata": {
        "colab": {
          "base_uri": "https://localhost:8080/"
        },
        "id": "y5h9mqIUa-Ge",
        "outputId": "b64556f0-eacf-46b7-856c-0930446f8350"
      },
      "source": [
        "wine['quality'].value_counts()"
      ],
      "execution_count": null,
      "outputs": [
        {
          "output_type": "execute_result",
          "data": {
            "text/plain": [
              "6    2198\n",
              "5    1457\n",
              "7     880\n",
              "8     175\n",
              "4     163\n",
              "3      20\n",
              "9       5\n",
              "Name: quality, dtype: int64"
            ]
          },
          "metadata": {
            "tags": []
          },
          "execution_count": 48
        }
      ]
    },
    {
      "cell_type": "markdown",
      "metadata": {
        "id": "SkFOavLb6PbZ"
      },
      "source": [
        "## Data analysis and Visualization:"
      ]
    },
    {
      "cell_type": "code",
      "metadata": {
        "colab": {
          "base_uri": "https://localhost:8080/",
          "height": 659
        },
        "id": "jdZwF0WlbDoU",
        "outputId": "f73ec3e6-802c-4fed-b315-e98321659c67"
      },
      "source": [
        "msg.matrix(wine,figsize=(10,5))\n",
        "wine.isnull().sum()"
      ],
      "execution_count": null,
      "outputs": [
        {
          "output_type": "execute_result",
          "data": {
            "text/plain": [
              "fixed acidity           0\n",
              "volatile acidity        0\n",
              "citric acid             0\n",
              "residual sugar          0\n",
              "chlorides               0\n",
              "free sulfur dioxide     0\n",
              "total sulfur dioxide    0\n",
              "density                 0\n",
              "pH                      0\n",
              "sulphates               0\n",
              "alcohol                 0\n",
              "quality                 0\n",
              "dtype: int64"
            ]
          },
          "metadata": {
            "tags": []
          },
          "execution_count": 49
        },
        {
          "output_type": "display_data",
          "data": {
            "image/png": "[encoded data removed]",
            "text/plain": [
              "<Figure size 720x360 with 2 Axes>"
            ]
          },
          "metadata": {
            "tags": []
          }
        }
      ]
    },
    {
      "cell_type": "code",
      "metadata": {
        "colab": {
          "base_uri": "https://localhost:8080/",
          "height": 406
        },
        "id": "hilHAp5DbmTU",
        "outputId": "7f7f4150-efdf-4e2a-9da5-724b00a7bceb"
      },
      "source": [
        "plt.style.use('seaborn')\n",
        "fig = plt.figure(figsize = (10,6))\n",
        "sns.barplot(x = 'quality', y = 'fixed acidity', data = wine)"
      ],
      "execution_count": null,
      "outputs": [
        {
          "output_type": "execute_result",
          "data": {
            "text/plain": [
              "<matplotlib.axes._subplots.AxesSubplot at 0x7fd7a2b0f290>"
            ]
          },
          "metadata": {
            "tags": []
          },
          "execution_count": 50
        },
        {
          "output_type": "display_data",
          "data": {
            "image/png": "[encoded data removed]",
            "text/plain": [
              "<Figure size 720x432 with 1 Axes>"
            ]
          },
          "metadata": {
            "tags": []
          }
        }
      ]
    },
    {
      "cell_type": "code",
      "metadata": {
        "colab": {
          "base_uri": "https://localhost:8080/",
          "height": 406
        },
        "id": "plZmw4HHb7kr",
        "outputId": "211c0ed3-d177-4d16-dfd1-2e0d5af2f386"
      },
      "source": [
        "fig = plt.figure(figsize = (10,6))\n",
        "sns.barplot(x = 'quality', y = 'volatile acidity', data = wine)"
      ],
      "execution_count": null,
      "outputs": [
        {
          "output_type": "execute_result",
          "data": {
            "text/plain": [
              "<matplotlib.axes._subplots.AxesSubplot at 0x7fd7a2af96d0>"
            ]
          },
          "metadata": {
            "tags": []
          },
          "execution_count": 51
        },
        {
          "output_type": "display_data",
          "data": {
            "image/png": "[encoded data removed]",
            "text/plain": [
              "<Figure size 720x432 with 1 Axes>"
            ]
          },
          "metadata": {
            "tags": []
          }
        }
      ]
    },
    {
      "cell_type": "code",
      "metadata": {
        "colab": {
          "base_uri": "https://localhost:8080/",
          "height": 406
        },
        "id": "LNgyDGtocXHS",
        "outputId": "3e6b03a3-0766-4386-acc1-d71ba2d44368"
      },
      "source": [
        "fig = plt.figure(figsize = (10,6))\n",
        "sns.barplot(x = 'quality', y = 'citric acid', data = wine)"
      ],
      "execution_count": null,
      "outputs": [
        {
          "output_type": "execute_result",
          "data": {
            "text/plain": [
              "<matplotlib.axes._subplots.AxesSubplot at 0x7fd7a2a6ea90>"
            ]
          },
          "metadata": {
            "tags": []
          },
          "execution_count": 52
        },
        {
          "output_type": "display_data",
          "data": {
            "image/png": "[encoded data removed]",
            "text/plain": [
              "<Figure size 720x432 with 1 Axes>"
            ]
          },
          "metadata": {
            "tags": []
          }
        }
      ]
    },
    {
      "cell_type": "code",
      "metadata": {
        "colab": {
          "base_uri": "https://localhost:8080/",
          "height": 406
        },
        "id": "88WjuXPwce58",
        "outputId": "6d44c925-7e2e-41c7-f28d-ef9c0c1ae29e"
      },
      "source": [
        "fig = plt.figure(figsize = (10,6))\n",
        "sns.barplot(x = 'quality', y = 'residual sugar', data = wine)"
      ],
      "execution_count": null,
      "outputs": [
        {
          "output_type": "execute_result",
          "data": {
            "text/plain": [
              "<matplotlib.axes._subplots.AxesSubplot at 0x7fd7a2a024d0>"
            ]
          },
          "metadata": {
            "tags": []
          },
          "execution_count": 53
        },
        {
          "output_type": "display_data",
          "data": {
            "image/png": "[encoded data removed]",
            "text/plain": [
              "<Figure size 720x432 with 1 Axes>"
            ]
          },
          "metadata": {
            "tags": []
          }
        }
      ]
    },
    {
      "cell_type": "code",
      "metadata": {
        "colab": {
          "base_uri": "https://localhost:8080/",
          "height": 406
        },
        "id": "LsUOpEXucjRs",
        "outputId": "b2c59b31-f7da-464f-945f-7991eb715936"
      },
      "source": [
        "\n",
        "fig = plt.figure(figsize = (10,6))\n",
        "sns.barplot(x = 'quality', y = 'chlorides', data = wine)\n",
        "\n",
        "## we can see some down trending in chlorides as quality of the wine increases"
      ],
      "execution_count": null,
      "outputs": [
        {
          "output_type": "execute_result",
          "data": {
            "text/plain": [
              "<matplotlib.axes._subplots.AxesSubplot at 0x7fd7a2987510>"
            ]
          },
          "metadata": {
            "tags": []
          },
          "execution_count": 54
        },
        {
          "output_type": "display_data",
          "data": {
            "image/png": "[encoded data removed]",
            "text/plain": [
              "<Figure size 720x432 with 1 Axes>"
            ]
          },
          "metadata": {
            "tags": []
          }
        }
      ]
    },
    {
      "cell_type": "code",
      "metadata": {
        "colab": {
          "base_uri": "https://localhost:8080/",
          "height": 406
        },
        "id": "YbR6DiZ8cqsk",
        "outputId": "cc95f60a-19bd-43c5-ae90-778e8fae3253"
      },
      "source": [
        "fig = plt.figure(figsize = (10,6))\n",
        "sns.barplot(x = 'quality', y = 'free sulfur dioxide', data = wine)"
      ],
      "execution_count": null,
      "outputs": [
        {
          "output_type": "execute_result",
          "data": {
            "text/plain": [
              "<matplotlib.axes._subplots.AxesSubplot at 0x7fd7a2992390>"
            ]
          },
          "metadata": {
            "tags": []
          },
          "execution_count": 55
        },
        {
          "output_type": "display_data",
          "data": {
            "image/png": "[encoded data removed]",
            "text/plain": [
              "<Figure size 720x432 with 1 Axes>"
            ]
          },
          "metadata": {
            "tags": []
          }
        }
      ]
    },
    {
      "cell_type": "code",
      "metadata": {
        "colab": {
          "base_uri": "https://localhost:8080/",
          "height": 406
        },
        "id": "1H3sf0b8c3uK",
        "outputId": "2ccde838-83d8-4743-af2e-a42fa54e9737"
      },
      "source": [
        "fig = plt.figure(figsize = (10,6))\n",
        "sns.barplot(x = 'quality', y = 'total sulfur dioxide', data = wine)"
      ],
      "execution_count": null,
      "outputs": [
        {
          "output_type": "execute_result",
          "data": {
            "text/plain": [
              "<matplotlib.axes._subplots.AxesSubplot at 0x7fd7a2995650>"
            ]
          },
          "metadata": {
            "tags": []
          },
          "execution_count": 56
        },
        {
          "output_type": "display_data",
          "data": {
            "image/png": "[encoded data removed]",
            "text/plain": [
              "<Figure size 720x432 with 1 Axes>"
            ]
          },
          "metadata": {
            "tags": []
          }
        }
      ]
    },
    {
      "cell_type": "code",
      "metadata": {
        "colab": {
          "base_uri": "https://localhost:8080/",
          "height": 406
        },
        "id": "g8wKFo8bc7-o",
        "outputId": "b7b21e47-129b-4b6a-e636-60b4efcf75d2"
      },
      "source": [
        "fig = plt.figure(figsize = (10,6))\n",
        "sns.barplot(x = 'quality', y = 'sulphates', data = wine)"
      ],
      "execution_count": null,
      "outputs": [
        {
          "output_type": "execute_result",
          "data": {
            "text/plain": [
              "<matplotlib.axes._subplots.AxesSubplot at 0x7fd7a2c006d0>"
            ]
          },
          "metadata": {
            "tags": []
          },
          "execution_count": 57
        },
        {
          "output_type": "display_data",
          "data": {
            "image/png": "[encoded data removed]",
            "text/plain": [
              "<Figure size 720x432 with 1 Axes>"
            ]
          },
          "metadata": {
            "tags": []
          }
        }
      ]
    },
    {
      "cell_type": "code",
      "metadata": {
        "colab": {
          "base_uri": "https://localhost:8080/",
          "height": 406
        },
        "id": "IR0odVUEdC54",
        "outputId": "b2318801-0d3f-40a1-8be6-44ebb8c163ba"
      },
      "source": [
        "fig = plt.figure(figsize = (10,6))\n",
        "sns.barplot(x = 'quality', y = 'alcohol', data = wine)\n",
        "\n",
        "## level of alcohol goes higher as quality increases"
      ],
      "execution_count": null,
      "outputs": [
        {
          "output_type": "execute_result",
          "data": {
            "text/plain": [
              "<matplotlib.axes._subplots.AxesSubplot at 0x7fd7a28c5e10>"
            ]
          },
          "metadata": {
            "tags": []
          },
          "execution_count": 58
        },
        {
          "output_type": "display_data",
          "data": {
            "image/png": "[encoded data removed]",
            "text/plain": [
              "<Figure size 720x432 with 1 Axes>"
            ]
          },
          "metadata": {
            "tags": []
          }
        }
      ]
    },
    {
      "cell_type": "code",
      "metadata": {
        "colab": {
          "base_uri": "https://localhost:8080/",
          "height": 1000
        },
        "id": "GX9QIqmXdGbA",
        "outputId": "82ecb297-7401-42e0-d211-461443f6647b"
      },
      "source": [
        "fig.set_size_inches(10,20)\n",
        "\n",
        "fixed_acidity = wine['fixed acidity']\n",
        "volatile_acidity = wine['volatile acidity']\n",
        "citric_acid = wine['citric acid']\n",
        "residual_sugar = wine['residual sugar']\n",
        "chlorides = wine['chlorides']\n",
        "free_sulfur_dioxide = wine['free sulfur dioxide']\n",
        "total_sulfur_dioxide = wine['total sulfur dioxide']\n",
        "density = wine['density']\n",
        "pH = wine['pH']\n",
        "sulphates =wine['sulphates']\n",
        "alcohol = wine['alcohol']\n",
        "fig = plt.figure()\n",
        "ax = fig.add_subplot(111)\n",
        "ax.boxplot([fixed_acidity, volatile_acidity, citric_acid, residual_sugar, chlorides, free_sulfur_dioxide, total_sulfur_dioxide, density,\n",
        "           pH, sulphates, alcohol],labels =['FA','V','C','R','CH','F','T','D','p','S','A'] )"
      ],
      "execution_count": null,
      "outputs": [
        {
          "output_type": "execute_result",
          "data": {
            "text/plain": [
              "{'boxes': [<matplotlib.lines.Line2D at 0x7fd7a2797ad0>,\n",
              "  <matplotlib.lines.Line2D at 0x7fd7a27b0110>,\n",
              "  <matplotlib.lines.Line2D at 0x7fd7a27c0610>,\n",
              "  <matplotlib.lines.Line2D at 0x7fd7a2752bd0>,\n",
              "  <matplotlib.lines.Line2D at 0x7fd7a2766190>,\n",
              "  <matplotlib.lines.Line2D at 0x7fd7a277c710>,\n",
              "  <matplotlib.lines.Line2D at 0x7fd7a278cc50>,\n",
              "  <matplotlib.lines.Line2D at 0x7fd7a27241d0>,\n",
              "  <matplotlib.lines.Line2D at 0x7fd7a27376d0>,\n",
              "  <matplotlib.lines.Line2D at 0x7fd7a2746b50>,\n",
              "  <matplotlib.lines.Line2D at 0x7fd7a26df0d0>],\n",
              " 'caps': [<matplotlib.lines.Line2D at 0x7fd7a27a0b50>,\n",
              "  <matplotlib.lines.Line2D at 0x7fd7a27a70d0>,\n",
              "  <matplotlib.lines.Line2D at 0x7fd7a27b90d0>,\n",
              "  <matplotlib.lines.Line2D at 0x7fd7a27b9610>,\n",
              "  <matplotlib.lines.Line2D at 0x7fd7a27c9650>,\n",
              "  <matplotlib.lines.Line2D at 0x7fd7a27c9bd0>,\n",
              "  <matplotlib.lines.Line2D at 0x7fd7a275abd0>,\n",
              "  <matplotlib.lines.Line2D at 0x7fd7a2762150>,\n",
              "  <matplotlib.lines.Line2D at 0x7fd7a2773190>,\n",
              "  <matplotlib.lines.Line2D at 0x7fd7a2773690>,\n",
              "  <matplotlib.lines.Line2D at 0x7fd7a2784710>,\n",
              "  <matplotlib.lines.Line2D at 0x7fd7a2784c50>,\n",
              "  <matplotlib.lines.Line2D at 0x7fd7a2712c50>,\n",
              "  <matplotlib.lines.Line2D at 0x7fd7a271d1d0>,\n",
              "  <matplotlib.lines.Line2D at 0x7fd7a272d1d0>,\n",
              "  <matplotlib.lines.Line2D at 0x7fd7a272d710>,\n",
              "  <matplotlib.lines.Line2D at 0x7fd7a273e690>,\n",
              "  <matplotlib.lines.Line2D at 0x7fd7a273ebd0>,\n",
              "  <matplotlib.lines.Line2D at 0x7fd7a26d0b50>,\n",
              "  <matplotlib.lines.Line2D at 0x7fd7a26d70d0>,\n",
              "  <matplotlib.lines.Line2D at 0x7fd7a26e80d0>,\n",
              "  <matplotlib.lines.Line2D at 0x7fd7a26e8610>],\n",
              " 'fliers': [<matplotlib.lines.Line2D at 0x7fd7a27a7b90>,\n",
              "  <matplotlib.lines.Line2D at 0x7fd7a27c00d0>,\n",
              "  <matplotlib.lines.Line2D at 0x7fd7a2752690>,\n",
              "  <matplotlib.lines.Line2D at 0x7fd7a2762bd0>,\n",
              "  <matplotlib.lines.Line2D at 0x7fd7a277c190>,\n",
              "  <matplotlib.lines.Line2D at 0x7fd7a278c710>,\n",
              "  <matplotlib.lines.Line2D at 0x7fd7a271dc50>,\n",
              "  <matplotlib.lines.Line2D at 0x7fd7a27371d0>,\n",
              "  <matplotlib.lines.Line2D at 0x7fd7a2746650>,\n",
              "  <matplotlib.lines.Line2D at 0x7fd7a26d7b50>,\n",
              "  <matplotlib.lines.Line2D at 0x7fd7a26f10d0>],\n",
              " 'means': [],\n",
              " 'medians': [<matplotlib.lines.Line2D at 0x7fd7a27a7650>,\n",
              "  <matplotlib.lines.Line2D at 0x7fd7a27b9b50>,\n",
              "  <matplotlib.lines.Line2D at 0x7fd7a2752150>,\n",
              "  <matplotlib.lines.Line2D at 0x7fd7a2762690>,\n",
              "  <matplotlib.lines.Line2D at 0x7fd7a2773bd0>,\n",
              "  <matplotlib.lines.Line2D at 0x7fd7a278c1d0>,\n",
              "  <matplotlib.lines.Line2D at 0x7fd7a271d710>,\n",
              "  <matplotlib.lines.Line2D at 0x7fd7a272dc50>,\n",
              "  <matplotlib.lines.Line2D at 0x7fd7a2746150>,\n",
              "  <matplotlib.lines.Line2D at 0x7fd7a26d7610>,\n",
              "  <matplotlib.lines.Line2D at 0x7fd7a26e8b50>],\n",
              " 'whiskers': [<matplotlib.lines.Line2D at 0x7fd7a27a00d0>,\n",
              "  <matplotlib.lines.Line2D at 0x7fd7a27a0610>,\n",
              "  <matplotlib.lines.Line2D at 0x7fd7a27b0650>,\n",
              "  <matplotlib.lines.Line2D at 0x7fd7a27b0b50>,\n",
              "  <matplotlib.lines.Line2D at 0x7fd7a27c0b50>,\n",
              "  <matplotlib.lines.Line2D at 0x7fd7a27c9110>,\n",
              "  <matplotlib.lines.Line2D at 0x7fd7a275a150>,\n",
              "  <matplotlib.lines.Line2D at 0x7fd7a275a690>,\n",
              "  <matplotlib.lines.Line2D at 0x7fd7a2766710>,\n",
              "  <matplotlib.lines.Line2D at 0x7fd7a2766c10>,\n",
              "  <matplotlib.lines.Line2D at 0x7fd7a277cc50>,\n",
              "  <matplotlib.lines.Line2D at 0x7fd7a27841d0>,\n",
              "  <matplotlib.lines.Line2D at 0x7fd7a27121d0>,\n",
              "  <matplotlib.lines.Line2D at 0x7fd7a2712710>,\n",
              "  <matplotlib.lines.Line2D at 0x7fd7a2724710>,\n",
              "  <matplotlib.lines.Line2D at 0x7fd7a2724c50>,\n",
              "  <matplotlib.lines.Line2D at 0x7fd7a2737bd0>,\n",
              "  <matplotlib.lines.Line2D at 0x7fd7a273e150>,\n",
              "  <matplotlib.lines.Line2D at 0x7fd7a26d00d0>,\n",
              "  <matplotlib.lines.Line2D at 0x7fd7a26d0610>,\n",
              "  <matplotlib.lines.Line2D at 0x7fd7a26df610>,\n",
              "  <matplotlib.lines.Line2D at 0x7fd7a26dfb50>]}"
            ]
          },
          "metadata": {
            "tags": []
          },
          "execution_count": 59
        },
        {
          "output_type": "display_data",
          "data": {
            "image/png": "[encoded data removed]",
            "text/plain": [
              "<Figure size 576x396 with 1 Axes>"
            ]
          },
          "metadata": {
            "tags": []
          }
        }
      ]
    },
    {
      "cell_type": "code",
      "metadata": {
        "colab": {
          "base_uri": "https://localhost:8080/",
          "height": 435
        },
        "id": "MDh8Ypngd87Y",
        "outputId": "d8ca456d-829e-4eeb-bda2-5125af3a6f84"
      },
      "source": [
        "sns.boxplot(wine['quality'])"
      ],
      "execution_count": null,
      "outputs": [
        {
          "output_type": "stream",
          "text": [
            "/usr/local/lib/python3.7/dist-packages/seaborn/_decorators.py:43: FutureWarning: Pass the following variable as a keyword arg: x. From version 0.12, the only valid positional argument will be `data`, and passing other arguments without an explicit keyword will result in an error or misinterpretation.\n",
            "  FutureWarning\n"
          ],
          "name": "stderr"
        },
        {
          "output_type": "execute_result",
          "data": {
            "text/plain": [
              "<matplotlib.axes._subplots.AxesSubplot at 0x7fd7a27dc910>"
            ]
          },
          "metadata": {
            "tags": []
          },
          "execution_count": 60
        },
        {
          "output_type": "display_data",
          "data": {
            "image/png": "[encoded data removed]",
            "text/plain": [
              "<Figure size 576x396 with 1 Axes>"
            ]
          },
          "metadata": {
            "tags": []
          }
        }
      ]
    },
    {
      "cell_type": "code",
      "metadata": {
        "colab": {
          "base_uri": "https://localhost:8080/",
          "height": 878
        },
        "id": "9PENTPFceyX8",
        "outputId": "2e5539c1-1f0a-41c8-eca5-bc2bfc8dc7a5"
      },
      "source": [
        "fig,axes=plt.subplots(3,3)\n",
        "\n",
        "axes[0,0].hist(x=\"density\",data=wine,edgecolor=\"black\",linewidth=2,color='cyan')\n",
        "axes[0,0].set_title(\"Variation of density\")\n",
        "\n",
        "axes[0,1].hist(x=\"alcohol\",data=wine,edgecolor=\"black\",linewidth=2,color='cyan')\n",
        "axes[0,1].set_title(\"Variation of alcohol\")\n",
        "\n",
        "axes[0,2].hist(x=\"citric acid\",data=wine,edgecolor=\"black\",linewidth=2,color='cyan')\n",
        "axes[0,2].set_title(\"Variation of citric acid\")\n",
        "\n",
        "axes[1,0].hist(x=\"fixed acidity\",data=wine,edgecolor=\"black\",linewidth=2,color='cyan')\n",
        "axes[1,0].set_title(\"Variation of fixed acidity\")\n",
        "\n",
        "axes[1,1].hist(x=\"chlorides\",data=wine,edgecolor=\"black\",linewidth=2,color='cyan')\n",
        "axes[1,1].set_title(\"Variation of chlorides\")\n",
        "\n",
        "axes[1,2].hist(x=\"free sulfur dioxide\",data=wine,edgecolor=\"black\",linewidth=2,color='cyan')\n",
        "axes[1,2].set_title(\"Variation of free sulfur dioxide\")\n",
        "\n",
        "axes[2,0].hist(x=\"total sulfur dioxide\",data=wine,edgecolor=\"black\",linewidth=2,color='cyan')\n",
        "axes[2,0].set_title(\"Variation of total sulfur dioxide\")\n",
        "\n",
        "axes[2,1].hist(x=\"sulphates\",data=wine,edgecolor=\"black\",linewidth=2,color='cyan')\n",
        "axes[2,1].set_title(\"Variation of sulphates\")\n",
        "\n",
        "axes[2,2].hist(x=\"volatile acidity\",data=wine,edgecolor=\"black\",linewidth=2,color='cyan')\n",
        "axes[2,2].set_title(\"Variation of volatile acidity\")\n",
        "\n",
        "fig.set_size_inches(15,15)"
      ],
      "execution_count": null,
      "outputs": [
        {
          "output_type": "display_data",
          "data": {
            "image/png": "[encoded data removed]",
            "text/plain": [
              "<Figure size 1080x1080 with 9 Axes>"
            ]
          },
          "metadata": {
            "tags": []
          }
        }
      ]
    },
    {
      "cell_type": "code",
      "metadata": {
        "colab": {
          "base_uri": "https://localhost:8080/",
          "height": 883
        },
        "id": "oRegifVxd_B5",
        "outputId": "567ee9d2-e2e4-4d35-bdc7-4c8eb744e8fd"
      },
      "source": [
        "corrMat = wine.corr()\n",
        "mask = np.array(corrMat)\n",
        "mask[np.tril_indices_from(mask)] = False\n",
        "fig,ax = plt.subplots()\n",
        "fig.set_size_inches(15, 15)\n",
        "sns.heatmap(corrMat, mask = mask, vmax = 0.8, square = True, annot = True)"
      ],
      "execution_count": null,
      "outputs": [
        {
          "output_type": "execute_result",
          "data": {
            "text/plain": [
              "<matplotlib.axes._subplots.AxesSubplot at 0x7fd7a21b3190>"
            ]
          },
          "metadata": {
            "tags": []
          },
          "execution_count": 62
        },
        {
          "output_type": "display_data",
          "data": {
            "image/png": "[encoded data removed]",
            "text/plain": [
              "<Figure size 1080x1080 with 2 Axes>"
            ]
          },
          "metadata": {
            "tags": []
          }
        }
      ]
    },
    {
      "cell_type": "markdown",
      "metadata": {
        "id": "J5q-aylWemMQ"
      },
      "source": [
        "From Heat Map:\n",
        "Residual sugar and density are highly correlated\n",
        "\n",
        "alcohol is negatively correlated with density"
      ]
    },
    {
      "cell_type": "markdown",
      "metadata": {
        "id": "U2SeIRMC6GZP"
      },
      "source": [
        "##Feature Selection:"
      ]
    },
    {
      "cell_type": "code",
      "metadata": {
        "id": "blO8PihTeVvt"
      },
      "source": [
        "# feature selection with correlation\n",
        "def correlation(data, thershold):\n",
        "    col_corr = set()\n",
        "    corr_mat = data.corr()\n",
        "    for i in range(len(corr_mat.columns)):\n",
        "        for j in range(i):\n",
        "            if abs(corr_mat.iloc[i, j])>threshold:\n",
        "                col_name = corr_mat.columns[i]\n",
        "                col_corr.add(col_name)\n",
        "\n",
        "    return col_corr"
      ],
      "execution_count": null,
      "outputs": []
    },
    {
      "cell_type": "code",
      "metadata": {
        "colab": {
          "base_uri": "https://localhost:8080/"
        },
        "id": "_e3lPkjMhjCM",
        "outputId": "50eb91d0-5618-4d15-f415-f639d2411989"
      },
      "source": [
        "threshold = 0.75\n",
        "correlation(wine,threshold)"
      ],
      "execution_count": null,
      "outputs": [
        {
          "output_type": "execute_result",
          "data": {
            "text/plain": [
              "{'alcohol', 'density'}"
            ]
          },
          "metadata": {
            "tags": []
          },
          "execution_count": 64
        }
      ]
    },
    {
      "cell_type": "code",
      "metadata": {
        "id": "b4Jv0CCchnri"
      },
      "source": [
        "## Univariate feature selection\n",
        "from sklearn.feature_selection import SelectKBest         ##  used to select k best features\n",
        "from sklearn.feature_selection import chi2          "
      ],
      "execution_count": null,
      "outputs": []
    },
    {
      "cell_type": "code",
      "metadata": {
        "id": "1Fb48VApiUdv"
      },
      "source": [
        "x = wine.drop('quality', axis=1)\n",
        "y = wine['quality']\n",
        "\n",
        "ordered_rank_features = SelectKBest(score_func=chi2, k=10)\n",
        "ordered_features = ordered_rank_features.fit(x, y)"
      ],
      "execution_count": null,
      "outputs": []
    },
    {
      "cell_type": "code",
      "metadata": {
        "id": "o8Bj8HBpjnEa"
      },
      "source": [
        "df_score = pd.DataFrame(ordered_features.scores_, columns=['score'])\n",
        "df_columns = pd.DataFrame(x.columns, columns=['features'])\n",
        "\n",
        "features_rank = pd.concat([df_columns, df_score], axis=1)"
      ],
      "execution_count": null,
      "outputs": []
    },
    {
      "cell_type": "code",
      "metadata": {
        "colab": {
          "base_uri": "https://localhost:8080/",
          "height": 378
        },
        "id": "85pOtYmzju6R",
        "outputId": "55c182dd-8386-4e2c-b529-6093818cbf2b"
      },
      "source": [
        "features_rank.sort_values(by='score', ascending=False)"
      ],
      "execution_count": null,
      "outputs": [
        {
          "output_type": "execute_result",
          "data": {
            "text/html": [
              "<div>\n",
              "<style scoped>\n",
              "    .dataframe tbody tr th:only-of-type {\n",
              "        vertical-align: middle;\n",
              "    }\n",
              "\n",
              "    .dataframe tbody tr th {\n",
              "        vertical-align: top;\n",
              "    }\n",
              "\n",
              "    .dataframe thead th {\n",
              "        text-align: right;\n",
              "    }\n",
              "</style>\n",
              "<table border=\"1\" class=\"dataframe\">\n",
              "  <thead>\n",
              "    <tr style=\"text-align: right;\">\n",
              "      <th></th>\n",
              "      <th>features</th>\n",
              "      <th>score</th>\n",
              "    </tr>\n",
              "  </thead>\n",
              "  <tbody>\n",
              "    <tr>\n",
              "      <th>6</th>\n",
              "      <td>total sulfur dioxide</td>\n",
              "      <td>3358.298433</td>\n",
              "    </tr>\n",
              "    <tr>\n",
              "      <th>5</th>\n",
              "      <td>free sulfur dioxide</td>\n",
              "      <td>947.712845</td>\n",
              "    </tr>\n",
              "    <tr>\n",
              "      <th>3</th>\n",
              "      <td>residual sugar</td>\n",
              "      <td>501.235224</td>\n",
              "    </tr>\n",
              "    <tr>\n",
              "      <th>10</th>\n",
              "      <td>alcohol</td>\n",
              "      <td>155.078234</td>\n",
              "    </tr>\n",
              "    <tr>\n",
              "      <th>1</th>\n",
              "      <td>volatile acidity</td>\n",
              "      <td>12.622636</td>\n",
              "    </tr>\n",
              "    <tr>\n",
              "      <th>0</th>\n",
              "      <td>fixed acidity</td>\n",
              "      <td>7.922042</td>\n",
              "    </tr>\n",
              "    <tr>\n",
              "      <th>4</th>\n",
              "      <td>chlorides</td>\n",
              "      <td>2.529005</td>\n",
              "    </tr>\n",
              "    <tr>\n",
              "      <th>2</th>\n",
              "      <td>citric acid</td>\n",
              "      <td>0.851118</td>\n",
              "    </tr>\n",
              "    <tr>\n",
              "      <th>9</th>\n",
              "      <td>sulphates</td>\n",
              "      <td>0.579206</td>\n",
              "    </tr>\n",
              "    <tr>\n",
              "      <th>8</th>\n",
              "      <td>pH</td>\n",
              "      <td>0.428745</td>\n",
              "    </tr>\n",
              "    <tr>\n",
              "      <th>7</th>\n",
              "      <td>density</td>\n",
              "      <td>0.005065</td>\n",
              "    </tr>\n",
              "  </tbody>\n",
              "</table>\n",
              "</div>"
            ],
            "text/plain": [
              "                features        score\n",
              "6   total sulfur dioxide  3358.298433\n",
              "5    free sulfur dioxide   947.712845\n",
              "3         residual sugar   501.235224\n",
              "10               alcohol   155.078234\n",
              "1       volatile acidity    12.622636\n",
              "0          fixed acidity     7.922042\n",
              "4              chlorides     2.529005\n",
              "2            citric acid     0.851118\n",
              "9              sulphates     0.579206\n",
              "8                     pH     0.428745\n",
              "7                density     0.005065"
            ]
          },
          "metadata": {
            "tags": []
          },
          "execution_count": 68
        }
      ]
    },
    {
      "cell_type": "code",
      "metadata": {
        "colab": {
          "base_uri": "https://localhost:8080/",
          "height": 347
        },
        "id": "sYaROOPrkeGL",
        "outputId": "494dddfa-4141-44e1-eebe-63efff400bb6"
      },
      "source": [
        "#Tree-based feature selection\n",
        "from sklearn.ensemble import ExtraTreesClassifier\n",
        "import matplotlib.pyplot as plt\n",
        "\n",
        "model = ExtraTreesClassifier()\n",
        "model.fit(x, y)\n",
        "\n",
        "ranked_features = pd.Series(model.feature_importances_, index = x.columns)\n",
        "ranked_features.sort_values(ascending=True).plot(kind ='barh')\n",
        "plt.show()"
      ],
      "execution_count": null,
      "outputs": [
        {
          "output_type": "display_data",
          "data": {
            "image/png": "[encoded data removed]",
            "text/plain": [
              "<Figure size 576x396 with 1 Axes>"
            ]
          },
          "metadata": {
            "tags": []
          }
        }
      ]
    },
    {
      "cell_type": "code",
      "metadata": {
        "colab": {
          "base_uri": "https://localhost:8080/"
        },
        "id": "CTJ8EIxYmnXj",
        "outputId": "9b7fce79-70bd-4cb1-b6d0-5cf3053090a9"
      },
      "source": [
        "X = np.array(x)\n",
        "Y = np.array(y)\n",
        "X[:, 0]"
      ],
      "execution_count": null,
      "outputs": [
        {
          "output_type": "execute_result",
          "data": {
            "text/plain": [
              "array([7. , 6.3, 8.1, ..., 6.5, 5.5, 6. ])"
            ]
          },
          "metadata": {
            "tags": []
          },
          "execution_count": 70
        }
      ]
    },
    {
      "cell_type": "code",
      "metadata": {
        "colab": {
          "base_uri": "https://localhost:8080/"
        },
        "id": "ZwaGE6wWlJcz",
        "outputId": "25535d52-f5f9-4cb8-ab05-0f532d3e1449"
      },
      "source": [
        "#Backward Elimination\n",
        "\n",
        "#Step-1 : Select the significance level. (For example SL = 0.05)\n",
        "#Step-2 : Fit the model with all independent variable.\n",
        "#Step-3 : Choose independent variable with highest p value, if p-value > SL go to step 4 otherwise your model is done.\n",
        "#Step-4 : Remove the independent variable.\n",
        "\n",
        "import statsmodels.regression.linear_model as sm \n",
        "X_opt = X[:, [0,1,2,3,4,5,6,7,8,9]]\n",
        "regressor_ols = sm.OLS( Y, X_opt).fit()\n",
        "print(regressor_ols.summary())"
      ],
      "execution_count": null,
      "outputs": [
        {
          "output_type": "stream",
          "text": [
            "                                 OLS Regression Results                                \n",
            "=======================================================================================\n",
            "Dep. Variable:                      y   R-squared (uncentered):                   0.980\n",
            "Model:                            OLS   Adj. R-squared (uncentered):              0.980\n",
            "Method:                 Least Squares   F-statistic:                          2.430e+04\n",
            "Date:                Tue, 16 Mar 2021   Prob (F-statistic):                        0.00\n",
            "Time:                        16:14:03   Log-Likelihood:                         -6064.9\n",
            "No. Observations:                4898   AIC:                                  1.215e+04\n",
            "Df Residuals:                    4888   BIC:                                  1.221e+04\n",
            "Df Model:                          10                                                  \n",
            "Covariance Type:            nonrobust                                                  \n",
            "==============================================================================\n",
            "                 coef    std err          t      P>|t|      [0.025      0.975]\n",
            "------------------------------------------------------------------------------\n",
            "x1            -0.0735      0.017     -4.419      0.000      -0.106      -0.041\n",
            "x2            -1.2349      0.123    -10.001      0.000      -1.477      -0.993\n",
            "x3             0.2087      0.106      1.970      0.049       0.001       0.416\n",
            "x4            -0.0052      0.003     -1.929      0.054      -0.010    8.37e-05\n",
            "x5            -6.9172      0.565    -12.233      0.000      -8.026      -5.809\n",
            "x6             0.0073      0.001      7.864      0.000       0.005       0.009\n",
            "x7            -0.0045      0.000    -11.493      0.000      -0.005      -0.004\n",
            "x8             6.2028      0.364     17.018      0.000       5.488       6.917\n",
            "x9             0.3062      0.092      3.319      0.001       0.125       0.487\n",
            "x10            0.4746      0.108      4.414      0.000       0.264       0.685\n",
            "==============================================================================\n",
            "Omnibus:                       61.540   Durbin-Watson:                   1.634\n",
            "Prob(Omnibus):                  0.000   Jarque-Bera (JB):               83.651\n",
            "Skew:                           0.167   Prob(JB):                     6.85e-19\n",
            "Kurtosis:                       3.547   Cond. No.                     7.15e+03\n",
            "==============================================================================\n",
            "\n",
            "Warnings:\n",
            "[1] Standard Errors assume that the covariance matrix of the errors is correctly specified.\n",
            "[2] The condition number is large, 7.15e+03. This might indicate that there are\n",
            "strong multicollinearity or other numerical problems.\n"
          ],
          "name": "stdout"
        }
      ]
    },
    {
      "cell_type": "code",
      "metadata": {
        "colab": {
          "base_uri": "https://localhost:8080/"
        },
        "id": "Tx_U5hMYoYcc",
        "outputId": "75c7dc55-1354-4a98-8828-22dfe540059d"
      },
      "source": [
        "X_opt = X[:, [0,1,2,4,5,6,7,8,9]]\n",
        "regressor_ols = sm.OLS( Y, X_opt).fit()\n",
        "print(regressor_ols.summary())"
      ],
      "execution_count": null,
      "outputs": [
        {
          "output_type": "stream",
          "text": [
            "                                 OLS Regression Results                                \n",
            "=======================================================================================\n",
            "Dep. Variable:                      y   R-squared (uncentered):                   0.980\n",
            "Model:                            OLS   Adj. R-squared (uncentered):              0.980\n",
            "Method:                 Least Squares   F-statistic:                          2.699e+04\n",
            "Date:                Tue, 16 Mar 2021   Prob (F-statistic):                        0.00\n",
            "Time:                        16:14:03   Log-Likelihood:                         -6066.8\n",
            "No. Observations:                4898   AIC:                                  1.215e+04\n",
            "Df Residuals:                    4889   BIC:                                  1.221e+04\n",
            "Df Model:                           9                                                  \n",
            "Covariance Type:            nonrobust                                                  \n",
            "==============================================================================\n",
            "                 coef    std err          t      P>|t|      [0.025      0.975]\n",
            "------------------------------------------------------------------------------\n",
            "x1            -0.0712      0.017     -4.290      0.000      -0.104      -0.039\n",
            "x2            -1.2423      0.123    -10.063      0.000      -1.484      -1.000\n",
            "x3             0.2029      0.106      1.915      0.056      -0.005       0.411\n",
            "x4            -6.8896      0.565    -12.185      0.000      -7.998      -5.781\n",
            "x5             0.0071      0.001      7.753      0.000       0.005       0.009\n",
            "x6            -0.0047      0.000    -12.569      0.000      -0.005      -0.004\n",
            "x7             6.0444      0.355     17.016      0.000       5.348       6.741\n",
            "x8             0.3501      0.089      3.915      0.000       0.175       0.525\n",
            "x9             0.4860      0.107      4.526      0.000       0.276       0.697\n",
            "==============================================================================\n",
            "Omnibus:                       59.380   Durbin-Watson:                   1.633\n",
            "Prob(Omnibus):                  0.000   Jarque-Bera (JB):               79.025\n",
            "Skew:                           0.168   Prob(JB):                     6.92e-18\n",
            "Kurtosis:                       3.523   Cond. No.                     7.13e+03\n",
            "==============================================================================\n",
            "\n",
            "Warnings:\n",
            "[1] Standard Errors assume that the covariance matrix of the errors is correctly specified.\n",
            "[2] The condition number is large, 7.13e+03. This might indicate that there are\n",
            "strong multicollinearity or other numerical problems.\n"
          ],
          "name": "stdout"
        }
      ]
    },
    {
      "cell_type": "code",
      "metadata": {
        "colab": {
          "base_uri": "https://localhost:8080/"
        },
        "id": "OI82xHqYovQe",
        "outputId": "95bf4158-f67a-45ae-aeae-1b4bc876aafb"
      },
      "source": [
        "X_opt = X[:, [0,1,4,5,6,7,8,9]]\n",
        "regressor_ols = sm.OLS( Y, X_opt).fit()\n",
        "print(regressor_ols.summary())"
      ],
      "execution_count": null,
      "outputs": [
        {
          "output_type": "stream",
          "text": [
            "                                 OLS Regression Results                                \n",
            "=======================================================================================\n",
            "Dep. Variable:                      y   R-squared (uncentered):                   0.980\n",
            "Model:                            OLS   Adj. R-squared (uncentered):              0.980\n",
            "Method:                 Least Squares   F-statistic:                          3.034e+04\n",
            "Date:                Tue, 16 Mar 2021   Prob (F-statistic):                        0.00\n",
            "Time:                        16:14:03   Log-Likelihood:                         -6068.6\n",
            "No. Observations:                4898   AIC:                                  1.215e+04\n",
            "Df Residuals:                    4890   BIC:                                  1.221e+04\n",
            "Df Model:                           8                                                  \n",
            "Covariance Type:            nonrobust                                                  \n",
            "==============================================================================\n",
            "                 coef    std err          t      P>|t|      [0.025      0.975]\n",
            "------------------------------------------------------------------------------\n",
            "x1            -0.0638      0.016     -3.952      0.000      -0.095      -0.032\n",
            "x2            -1.2791      0.122    -10.487      0.000      -1.518      -1.040\n",
            "x3            -6.7818      0.563    -12.051      0.000      -7.885      -5.679\n",
            "x4             0.0072      0.001      7.824      0.000       0.005       0.009\n",
            "x5            -0.0047      0.000    -12.493      0.000      -0.005      -0.004\n",
            "x6             6.0856      0.355     17.159      0.000       5.390       6.781\n",
            "x7             0.3402      0.089      3.810      0.000       0.165       0.515\n",
            "x8             0.4987      0.107      4.651      0.000       0.288       0.709\n",
            "==============================================================================\n",
            "Omnibus:                       58.977   Durbin-Watson:                   1.634\n",
            "Prob(Omnibus):                  0.000   Jarque-Bera (JB):               78.829\n",
            "Skew:                           0.166   Prob(JB):                     7.63e-18\n",
            "Kurtosis:                       3.526   Cond. No.                     7.10e+03\n",
            "==============================================================================\n",
            "\n",
            "Warnings:\n",
            "[1] Standard Errors assume that the covariance matrix of the errors is correctly specified.\n",
            "[2] The condition number is large, 7.1e+03. This might indicate that there are\n",
            "strong multicollinearity or other numerical problems.\n"
          ],
          "name": "stdout"
        }
      ]
    },
    {
      "cell_type": "code",
      "metadata": {
        "id": "JvcCb_1mk209"
      },
      "source": [
        "# Lets drop residual sugar according to both backward elimination and Tree based feature selection \n",
        "\n",
        "wine.drop('residual sugar', axis=1, inplace=True)"
      ],
      "execution_count": null,
      "outputs": []
    },
    {
      "cell_type": "code",
      "metadata": {
        "id": "1dBa-rrQm-s1"
      },
      "source": [
        "from sklearn.model_selection import train_test_split"
      ],
      "execution_count": null,
      "outputs": []
    },
    {
      "cell_type": "code",
      "metadata": {
        "id": "y8En3P-0nbXR"
      },
      "source": [
        "x = wine.drop('quality', axis=1)\n",
        "y = wine['quality']\n",
        "train_x, test_x, train_y, test_y = train_test_split(x, y)"
      ],
      "execution_count": null,
      "outputs": []
    },
    {
      "cell_type": "markdown",
      "metadata": {
        "id": "qMJ9o1JF5Fhu"
      },
      "source": [
        "## Model Selection:"
      ]
    },
    {
      "cell_type": "code",
      "metadata": {
        "id": "vloHewRSoJim"
      },
      "source": [
        "from sklearn.linear_model import LogisticRegression\n",
        "from sklearn.ensemble import RandomForestClassifier\n",
        "from sklearn.ensemble import AdaBoostClassifier\n",
        "from sklearn.ensemble import BaggingClassifier\n",
        "from xgboost import XGBClassifier\n",
        "from sklearn.tree import DecisionTreeClassifier\n",
        "from sklearn.neighbors import KNeighborsClassifier\n",
        "from sklearn.svm import SVC\n",
        "from sklearn.linear_model import SGDClassifier\n",
        "from sklearn.naive_bayes import GaussianNB \n",
        "from sklearn.metrics import accuracy_score\n"
      ],
      "execution_count": null,
      "outputs": []
    },
    {
      "cell_type": "code",
      "metadata": {
        "colab": {
          "base_uri": "https://localhost:8080/"
        },
        "id": "0gLDczo_3Hnz",
        "outputId": "cde988ec-5f4d-4194-87bb-d97060938baf"
      },
      "source": [
        "models = [LogisticRegression(), SGDClassifier(), RandomForestClassifier(), AdaBoostClassifier(), BaggingClassifier(), XGBClassifier(), DecisionTreeClassifier(), KNeighborsClassifier(), SVC(), GaussianNB()]\n",
        "\n",
        "model_names = [ 'Logistic Regression', 'SGDClassifier', 'Random forest', 'Adaboost', 'Bagging','XGBoost', 'DecisionTree', 'K nearest neighbors',  'SVC', 'Naive_bayes']\n",
        "\n",
        "accuracy = []\n",
        "\n",
        "result = {}\n",
        "\n",
        "for model in range(len(models)):\n",
        "    mod = models[model]\n",
        "    mod.fit(train_x, train_y)\n",
        "    pred = mod.predict(test_x)\n",
        "    print(model)\n",
        "    accuracy.append(accuracy_score(test_y, pred))\n",
        "\n",
        "result = {'model names':model_names, 'Accuracy': accuracy}\n",
        "result = pd.DataFrame(result)"
      ],
      "execution_count": null,
      "outputs": [
        {
          "output_type": "stream",
          "text": [
            "/usr/local/lib/python3.7/dist-packages/sklearn/linear_model/_logistic.py:940: ConvergenceWarning: lbfgs failed to converge (status=1):\n",
            "STOP: TOTAL NO. of ITERATIONS REACHED LIMIT.\n",
            "\n",
            "Increase the number of iterations (max_iter) or scale the data as shown in:\n",
            "    https://scikit-learn.org/stable/modules/preprocessing.html\n",
            "Please also refer to the documentation for alternative solver options:\n",
            "    https://scikit-learn.org/stable/modules/linear_model.html#logistic-regression\n",
            "  extra_warning_msg=_LOGISTIC_SOLVER_CONVERGENCE_MSG)\n"
          ],
          "name": "stderr"
        },
        {
          "output_type": "stream",
          "text": [
            "0\n",
            "1\n",
            "2\n",
            "3\n",
            "4\n",
            "5\n",
            "6\n",
            "7\n",
            "8\n",
            "9\n"
          ],
          "name": "stdout"
        }
      ]
    },
    {
      "cell_type": "code",
      "metadata": {
        "colab": {
          "base_uri": "https://localhost:8080/",
          "height": 348
        },
        "id": "6zHDpcID4FHY",
        "outputId": "15337f03-7716-487f-cfbf-f4d54568a6ce"
      },
      "source": [
        "result"
      ],
      "execution_count": null,
      "outputs": [
        {
          "output_type": "execute_result",
          "data": {
            "text/html": [
              "<div>\n",
              "<style scoped>\n",
              "    .dataframe tbody tr th:only-of-type {\n",
              "        vertical-align: middle;\n",
              "    }\n",
              "\n",
              "    .dataframe tbody tr th {\n",
              "        vertical-align: top;\n",
              "    }\n",
              "\n",
              "    .dataframe thead th {\n",
              "        text-align: right;\n",
              "    }\n",
              "</style>\n",
              "<table border=\"1\" class=\"dataframe\">\n",
              "  <thead>\n",
              "    <tr style=\"text-align: right;\">\n",
              "      <th></th>\n",
              "      <th>model names</th>\n",
              "      <th>Accuracy</th>\n",
              "    </tr>\n",
              "  </thead>\n",
              "  <tbody>\n",
              "    <tr>\n",
              "      <th>0</th>\n",
              "      <td>Logistic Regression</td>\n",
              "      <td>0.472653</td>\n",
              "    </tr>\n",
              "    <tr>\n",
              "      <th>1</th>\n",
              "      <td>SGDClassifier</td>\n",
              "      <td>0.370612</td>\n",
              "    </tr>\n",
              "    <tr>\n",
              "      <th>2</th>\n",
              "      <td>Random forest</td>\n",
              "      <td>0.671837</td>\n",
              "    </tr>\n",
              "    <tr>\n",
              "      <th>3</th>\n",
              "      <td>Adaboost</td>\n",
              "      <td>0.447347</td>\n",
              "    </tr>\n",
              "    <tr>\n",
              "      <th>4</th>\n",
              "      <td>Bagging</td>\n",
              "      <td>0.648163</td>\n",
              "    </tr>\n",
              "    <tr>\n",
              "      <th>5</th>\n",
              "      <td>XGBoost</td>\n",
              "      <td>0.569796</td>\n",
              "    </tr>\n",
              "    <tr>\n",
              "      <th>6</th>\n",
              "      <td>DecisionTree</td>\n",
              "      <td>0.586122</td>\n",
              "    </tr>\n",
              "    <tr>\n",
              "      <th>7</th>\n",
              "      <td>K nearest neighbors</td>\n",
              "      <td>0.478367</td>\n",
              "    </tr>\n",
              "    <tr>\n",
              "      <th>8</th>\n",
              "      <td>SVC</td>\n",
              "      <td>0.448163</td>\n",
              "    </tr>\n",
              "    <tr>\n",
              "      <th>9</th>\n",
              "      <td>Naive_bayes</td>\n",
              "      <td>0.471020</td>\n",
              "    </tr>\n",
              "  </tbody>\n",
              "</table>\n",
              "</div>"
            ],
            "text/plain": [
              "           model names  Accuracy\n",
              "0  Logistic Regression  0.472653\n",
              "1        SGDClassifier  0.370612\n",
              "2        Random forest  0.671837\n",
              "3             Adaboost  0.447347\n",
              "4              Bagging  0.648163\n",
              "5              XGBoost  0.569796\n",
              "6         DecisionTree  0.586122\n",
              "7  K nearest neighbors  0.478367\n",
              "8                  SVC  0.448163\n",
              "9          Naive_bayes  0.471020"
            ]
          },
          "metadata": {
            "tags": []
          },
          "execution_count": 79
        }
      ]
    },
    {
      "cell_type": "markdown",
      "metadata": {
        "id": "XRmWHug745bl"
      },
      "source": [
        "## Convert to binary class classification:"
      ]
    },
    {
      "cell_type": "code",
      "metadata": {
        "id": "9Gz1gcVc4Z0T"
      },
      "source": [
        "#Making binary classificaion for the response variable.\n",
        "#Dividing wine as good and bad by giving the limit for the quality\n",
        "bins = (2, 6.5, 8)\n",
        "group_names = ['bad', 'good']\n",
        "wine['quality'] = pd.cut(wine['quality'], bins = bins, labels = group_names)"
      ],
      "execution_count": null,
      "outputs": []
    },
    {
      "cell_type": "code",
      "metadata": {
        "colab": {
          "base_uri": "https://localhost:8080/"
        },
        "id": "EhADA5hd0KVP",
        "outputId": "98699b64-427b-4a8d-b9c0-9e8785619b5f"
      },
      "source": [
        "wine['quality'].value_counts()"
      ],
      "execution_count": null,
      "outputs": [
        {
          "output_type": "execute_result",
          "data": {
            "text/plain": [
              "bad     3838\n",
              "good    1055\n",
              "Name: quality, dtype: int64"
            ]
          },
          "metadata": {
            "tags": []
          },
          "execution_count": 81
        }
      ]
    },
    {
      "cell_type": "code",
      "metadata": {
        "id": "acFpi40C6Q62"
      },
      "source": [
        "from sklearn.preprocessing import StandardScaler, LabelEncoder\n",
        "\n",
        "#Now lets assign a labels to our quality variable\n",
        "label_quality = LabelEncoder()"
      ],
      "execution_count": null,
      "outputs": []
    },
    {
      "cell_type": "code",
      "metadata": {
        "id": "APzj6N9U6UJ7"
      },
      "source": [
        "wine['quality'] = (wine['quality'].astype('str'))\n",
        "wine['quality'] = label_quality.fit_transform(wine['quality'])\n"
      ],
      "execution_count": null,
      "outputs": []
    },
    {
      "cell_type": "code",
      "metadata": {
        "colab": {
          "base_uri": "https://localhost:8080/",
          "height": 215
        },
        "id": "oSooHfxD6gsj",
        "outputId": "98fb7725-7b91-4751-c562-6b0ec74e26d1"
      },
      "source": [
        "wine.head()"
      ],
      "execution_count": null,
      "outputs": [
        {
          "output_type": "execute_result",
          "data": {
            "text/html": [
              "<div>\n",
              "<style scoped>\n",
              "    .dataframe tbody tr th:only-of-type {\n",
              "        vertical-align: middle;\n",
              "    }\n",
              "\n",
              "    .dataframe tbody tr th {\n",
              "        vertical-align: top;\n",
              "    }\n",
              "\n",
              "    .dataframe thead th {\n",
              "        text-align: right;\n",
              "    }\n",
              "</style>\n",
              "<table border=\"1\" class=\"dataframe\">\n",
              "  <thead>\n",
              "    <tr style=\"text-align: right;\">\n",
              "      <th></th>\n",
              "      <th>fixed acidity</th>\n",
              "      <th>volatile acidity</th>\n",
              "      <th>citric acid</th>\n",
              "      <th>chlorides</th>\n",
              "      <th>free sulfur dioxide</th>\n",
              "      <th>total sulfur dioxide</th>\n",
              "      <th>density</th>\n",
              "      <th>pH</th>\n",
              "      <th>sulphates</th>\n",
              "      <th>alcohol</th>\n",
              "      <th>quality</th>\n",
              "    </tr>\n",
              "  </thead>\n",
              "  <tbody>\n",
              "    <tr>\n",
              "      <th>0</th>\n",
              "      <td>7.0</td>\n",
              "      <td>0.27</td>\n",
              "      <td>0.36</td>\n",
              "      <td>0.045</td>\n",
              "      <td>45.0</td>\n",
              "      <td>170.0</td>\n",
              "      <td>1.0010</td>\n",
              "      <td>3.00</td>\n",
              "      <td>0.45</td>\n",
              "      <td>8.8</td>\n",
              "      <td>0</td>\n",
              "    </tr>\n",
              "    <tr>\n",
              "      <th>1</th>\n",
              "      <td>6.3</td>\n",
              "      <td>0.30</td>\n",
              "      <td>0.34</td>\n",
              "      <td>0.049</td>\n",
              "      <td>14.0</td>\n",
              "      <td>132.0</td>\n",
              "      <td>0.9940</td>\n",
              "      <td>3.30</td>\n",
              "      <td>0.49</td>\n",
              "      <td>9.5</td>\n",
              "      <td>0</td>\n",
              "    </tr>\n",
              "    <tr>\n",
              "      <th>2</th>\n",
              "      <td>8.1</td>\n",
              "      <td>0.28</td>\n",
              "      <td>0.40</td>\n",
              "      <td>0.050</td>\n",
              "      <td>30.0</td>\n",
              "      <td>97.0</td>\n",
              "      <td>0.9951</td>\n",
              "      <td>3.26</td>\n",
              "      <td>0.44</td>\n",
              "      <td>10.1</td>\n",
              "      <td>0</td>\n",
              "    </tr>\n",
              "    <tr>\n",
              "      <th>3</th>\n",
              "      <td>7.2</td>\n",
              "      <td>0.23</td>\n",
              "      <td>0.32</td>\n",
              "      <td>0.058</td>\n",
              "      <td>47.0</td>\n",
              "      <td>186.0</td>\n",
              "      <td>0.9956</td>\n",
              "      <td>3.19</td>\n",
              "      <td>0.40</td>\n",
              "      <td>9.9</td>\n",
              "      <td>0</td>\n",
              "    </tr>\n",
              "    <tr>\n",
              "      <th>4</th>\n",
              "      <td>7.2</td>\n",
              "      <td>0.23</td>\n",
              "      <td>0.32</td>\n",
              "      <td>0.058</td>\n",
              "      <td>47.0</td>\n",
              "      <td>186.0</td>\n",
              "      <td>0.9956</td>\n",
              "      <td>3.19</td>\n",
              "      <td>0.40</td>\n",
              "      <td>9.9</td>\n",
              "      <td>0</td>\n",
              "    </tr>\n",
              "  </tbody>\n",
              "</table>\n",
              "</div>"
            ],
            "text/plain": [
              "   fixed acidity  volatile acidity  citric acid  ...  sulphates  alcohol  quality\n",
              "0            7.0              0.27         0.36  ...       0.45      8.8        0\n",
              "1            6.3              0.30         0.34  ...       0.49      9.5        0\n",
              "2            8.1              0.28         0.40  ...       0.44     10.1        0\n",
              "3            7.2              0.23         0.32  ...       0.40      9.9        0\n",
              "4            7.2              0.23         0.32  ...       0.40      9.9        0\n",
              "\n",
              "[5 rows x 11 columns]"
            ]
          },
          "metadata": {
            "tags": []
          },
          "execution_count": 84
        }
      ]
    },
    {
      "cell_type": "code",
      "metadata": {
        "colab": {
          "base_uri": "https://localhost:8080/"
        },
        "id": "dtHZUKUx6vwj",
        "outputId": "1c71c54e-a2e3-4924-86c1-88b387cba265"
      },
      "source": [
        "wine['quality'].value_counts()\n"
      ],
      "execution_count": null,
      "outputs": [
        {
          "output_type": "execute_result",
          "data": {
            "text/plain": [
              "0    3838\n",
              "1    1055\n",
              "2       5\n",
              "Name: quality, dtype: int64"
            ]
          },
          "metadata": {
            "tags": []
          },
          "execution_count": 85
        }
      ]
    },
    {
      "cell_type": "code",
      "metadata": {
        "colab": {
          "base_uri": "https://localhost:8080/",
          "height": 437
        },
        "id": "23aGP3Wk7RCM",
        "outputId": "4c2b2f0b-aff0-4d7e-a821-b5236328ec54"
      },
      "source": [
        "sns.countplot(wine['quality'])\n"
      ],
      "execution_count": null,
      "outputs": [
        {
          "output_type": "stream",
          "text": [
            "/usr/local/lib/python3.7/dist-packages/seaborn/_decorators.py:43: FutureWarning: Pass the following variable as a keyword arg: x. From version 0.12, the only valid positional argument will be `data`, and passing other arguments without an explicit keyword will result in an error or misinterpretation.\n",
            "  FutureWarning\n"
          ],
          "name": "stderr"
        },
        {
          "output_type": "execute_result",
          "data": {
            "text/plain": [
              "<matplotlib.axes._subplots.AxesSubplot at 0x7fd7b286e310>"
            ]
          },
          "metadata": {
            "tags": []
          },
          "execution_count": 86
        },
        {
          "output_type": "display_data",
          "data": {
            "image/png": "[encoded data removed]",
            "text/plain": [
              "<Figure size 576x396 with 1 Axes>"
            ]
          },
          "metadata": {
            "tags": []
          }
        }
      ]
    },
    {
      "cell_type": "code",
      "metadata": {
        "id": "8SpYSfhf7We7"
      },
      "source": [
        "x = wine.drop('quality', axis=1)\n",
        "y = wine['quality']"
      ],
      "execution_count": null,
      "outputs": []
    },
    {
      "cell_type": "code",
      "metadata": {
        "id": "WjqkxkJy77dj"
      },
      "source": [
        "train_x, test_x, train_y, test_y = train_test_split(x, y)"
      ],
      "execution_count": null,
      "outputs": []
    },
    {
      "cell_type": "markdown",
      "metadata": {
        "id": "aKjDvxPC4mjc"
      },
      "source": [
        "##Model selection:"
      ]
    },
    {
      "cell_type": "code",
      "metadata": {
        "colab": {
          "base_uri": "https://localhost:8080/"
        },
        "id": "40Y5dL4V8GbQ",
        "outputId": "c9c435bb-1c7c-4b18-9996-160becfe2db7"
      },
      "source": [
        "models = [LogisticRegression(), SGDClassifier(), RandomForestClassifier(), AdaBoostClassifier(), BaggingClassifier(), XGBClassifier(), DecisionTreeClassifier(), KNeighborsClassifier(), SVC(),GaussianNB()]\n",
        "\n",
        "model_names = [ 'Logistic Regression', 'SGDClassifier', 'Random forest', 'Adaboost', 'Bagging','XGBoost', 'DecisionTree', 'K nearest neighbors',  'SVC', 'NaiveBayes']\n",
        "\n",
        "accuracy = []\n",
        "\n",
        "result = {}\n",
        "\n",
        "for model in range(len(models)):\n",
        "    mod = models[model]\n",
        "    mod.fit(train_x, train_y)\n",
        "    pred = mod.predict(test_x)\n",
        "    print(model)\n",
        "    accuracy.append(accuracy_score(test_y, pred))\n",
        "\n",
        "result = {'model names':model_names, 'Accuracy': accuracy}\n",
        "result = pd.DataFrame(result)"
      ],
      "execution_count": null,
      "outputs": [
        {
          "output_type": "stream",
          "text": [
            "/usr/local/lib/python3.7/dist-packages/sklearn/linear_model/_logistic.py:940: ConvergenceWarning: lbfgs failed to converge (status=1):\n",
            "STOP: TOTAL NO. of ITERATIONS REACHED LIMIT.\n",
            "\n",
            "Increase the number of iterations (max_iter) or scale the data as shown in:\n",
            "    https://scikit-learn.org/stable/modules/preprocessing.html\n",
            "Please also refer to the documentation for alternative solver options:\n",
            "    https://scikit-learn.org/stable/modules/linear_model.html#logistic-regression\n",
            "  extra_warning_msg=_LOGISTIC_SOLVER_CONVERGENCE_MSG)\n"
          ],
          "name": "stderr"
        },
        {
          "output_type": "stream",
          "text": [
            "0\n",
            "1\n",
            "2\n",
            "3\n",
            "4\n",
            "5\n",
            "6\n",
            "7\n",
            "8\n",
            "9\n"
          ],
          "name": "stdout"
        }
      ]
    },
    {
      "cell_type": "code",
      "metadata": {
        "colab": {
          "base_uri": "https://localhost:8080/",
          "height": 348
        },
        "id": "tqYzaNct8MRK",
        "outputId": "9e1b4351-c3a1-4001-8fda-db7821dfb091"
      },
      "source": [
        "result"
      ],
      "execution_count": null,
      "outputs": [
        {
          "output_type": "execute_result",
          "data": {
            "text/html": [
              "<div>\n",
              "<style scoped>\n",
              "    .dataframe tbody tr th:only-of-type {\n",
              "        vertical-align: middle;\n",
              "    }\n",
              "\n",
              "    .dataframe tbody tr th {\n",
              "        vertical-align: top;\n",
              "    }\n",
              "\n",
              "    .dataframe thead th {\n",
              "        text-align: right;\n",
              "    }\n",
              "</style>\n",
              "<table border=\"1\" class=\"dataframe\">\n",
              "  <thead>\n",
              "    <tr style=\"text-align: right;\">\n",
              "      <th></th>\n",
              "      <th>model names</th>\n",
              "      <th>Accuracy</th>\n",
              "    </tr>\n",
              "  </thead>\n",
              "  <tbody>\n",
              "    <tr>\n",
              "      <th>0</th>\n",
              "      <td>Logistic Regression</td>\n",
              "      <td>0.789388</td>\n",
              "    </tr>\n",
              "    <tr>\n",
              "      <th>1</th>\n",
              "      <td>SGDClassifier</td>\n",
              "      <td>0.765714</td>\n",
              "    </tr>\n",
              "    <tr>\n",
              "      <th>2</th>\n",
              "      <td>Random forest</td>\n",
              "      <td>0.882449</td>\n",
              "    </tr>\n",
              "    <tr>\n",
              "      <th>3</th>\n",
              "      <td>Adaboost</td>\n",
              "      <td>0.780408</td>\n",
              "    </tr>\n",
              "    <tr>\n",
              "      <th>4</th>\n",
              "      <td>Bagging</td>\n",
              "      <td>0.879184</td>\n",
              "    </tr>\n",
              "    <tr>\n",
              "      <th>5</th>\n",
              "      <td>XGBoost</td>\n",
              "      <td>0.831020</td>\n",
              "    </tr>\n",
              "    <tr>\n",
              "      <th>6</th>\n",
              "      <td>DecisionTree</td>\n",
              "      <td>0.838367</td>\n",
              "    </tr>\n",
              "    <tr>\n",
              "      <th>7</th>\n",
              "      <td>K nearest neighbors</td>\n",
              "      <td>0.781224</td>\n",
              "    </tr>\n",
              "    <tr>\n",
              "      <th>8</th>\n",
              "      <td>SVC</td>\n",
              "      <td>0.780408</td>\n",
              "    </tr>\n",
              "    <tr>\n",
              "      <th>9</th>\n",
              "      <td>NaiveBayes</td>\n",
              "      <td>0.729796</td>\n",
              "    </tr>\n",
              "  </tbody>\n",
              "</table>\n",
              "</div>"
            ],
            "text/plain": [
              "           model names  Accuracy\n",
              "0  Logistic Regression  0.789388\n",
              "1        SGDClassifier  0.765714\n",
              "2        Random forest  0.882449\n",
              "3             Adaboost  0.780408\n",
              "4              Bagging  0.879184\n",
              "5              XGBoost  0.831020\n",
              "6         DecisionTree  0.838367\n",
              "7  K nearest neighbors  0.781224\n",
              "8                  SVC  0.780408\n",
              "9           NaiveBayes  0.729796"
            ]
          },
          "metadata": {
            "tags": []
          },
          "execution_count": 91
        }
      ]
    },
    {
      "cell_type": "markdown",
      "metadata": {
        "id": "HdE5_qYU4bCA"
      },
      "source": [
        "##Hyperparameter Optimization:"
      ]
    },
    {
      "cell_type": "markdown",
      "metadata": {
        "id": "KBByAKOQ4TqE"
      },
      "source": [
        "###Randomized search cv:"
      ]
    },
    {
      "cell_type": "code",
      "metadata": {
        "id": "6I9ioGEYBWXm"
      },
      "source": [
        "from sklearn.model_selection import RandomizedSearchCV"
      ],
      "execution_count": null,
      "outputs": []
    },
    {
      "cell_type": "code",
      "metadata": {
        "colab": {
          "base_uri": "https://localhost:8080/"
        },
        "id": "hV8_eSjQuyLW",
        "outputId": "feb8998b-011b-46f9-91ec-65a05ba4132a"
      },
      "source": [
        "\n",
        "# Number of trees in random forest\n",
        "n_estimators = [int(x) for x in np.linspace(start = 10, stop = 1000, num = 10)]\n",
        "\n",
        "# Number of features to consider at every split\n",
        "max_features = ['auto', 'sqrt','log2', None]\n",
        "\n",
        "criterion = ['gini', 'entropy']\n",
        "\n",
        "# Maximum number of levels in tree\n",
        "max_depth = [int(x) for x in np.linspace(5, 500,10)]\n",
        "\n",
        "# Minimum number of samples required to split a node\n",
        "min_samples_split = [2, 5, 8, 10, 14]\n",
        "\n",
        "# Minimum number of samples required at each leaf node\n",
        "min_samples_leaf = [1, 2, 4, 6, 8]\n",
        "\n",
        "# Create the random grid\n",
        "random_grid = {'n_estimators': n_estimators,\n",
        "               'max_features': max_features,\n",
        "               'max_depth': max_depth,\n",
        "               'min_samples_split': min_samples_split,\n",
        "               'min_samples_leaf': min_samples_leaf,\n",
        "               'criterion': criterion\n",
        "              }\n",
        "print(random_grid)"
      ],
      "execution_count": null,
      "outputs": [
        {
          "output_type": "stream",
          "text": [
            "{'n_estimators': [10, 120, 230, 340, 450, 560, 670, 780, 890, 1000], 'max_features': ['auto', 'sqrt', 'log2', None], 'max_depth': [5, 60, 115, 170, 225, 280, 335, 390, 445, 500], 'min_samples_split': [2, 5, 8, 10, 14], 'min_samples_leaf': [1, 2, 4, 6, 8], 'criterion': ['gini', 'entropy']}\n"
          ],
          "name": "stdout"
        }
      ]
    },
    {
      "cell_type": "code",
      "metadata": {
        "colab": {
          "base_uri": "https://localhost:8080/"
        },
        "id": "010Sr167imBp",
        "outputId": "93d76260-9fe1-4e53-d284-cb18d92b7aad"
      },
      "source": [
        "rfc=RandomForestClassifier()\n",
        "rf_randomcv=RandomizedSearchCV(estimator=rfc,param_distributions=random_grid, n_iter=100, cv=5,verbose=2, n_jobs=-1,\n",
        "                               random_state=100)\n",
        "### fit the randomized model\n",
        "rf_randomcv.fit(train_x,train_y)"
      ],
      "execution_count": null,
      "outputs": [
        {
          "output_type": "stream",
          "text": [
            "Fitting 5 folds for each of 100 candidates, totalling 500 fits\n"
          ],
          "name": "stdout"
        },
        {
          "output_type": "stream",
          "text": [
            "[Parallel(n_jobs=-1)]: Using backend LokyBackend with 2 concurrent workers.\n",
            "[Parallel(n_jobs=-1)]: Done  37 tasks      | elapsed:  1.4min\n",
            "[Parallel(n_jobs=-1)]: Done 158 tasks      | elapsed:  7.3min\n",
            "[Parallel(n_jobs=-1)]: Done 361 tasks      | elapsed: 16.0min\n",
            "[Parallel(n_jobs=-1)]: Done 500 out of 500 | elapsed: 22.6min finished\n"
          ],
          "name": "stderr"
        },
        {
          "output_type": "execute_result",
          "data": {
            "text/plain": [
              "RandomizedSearchCV(cv=5, error_score=nan,\n",
              "                   estimator=RandomForestClassifier(bootstrap=True,\n",
              "                                                    ccp_alpha=0.0,\n",
              "                                                    class_weight=None,\n",
              "                                                    criterion='gini',\n",
              "                                                    max_depth=None,\n",
              "                                                    max_features='auto',\n",
              "                                                    max_leaf_nodes=None,\n",
              "                                                    max_samples=None,\n",
              "                                                    min_impurity_decrease=0.0,\n",
              "                                                    min_impurity_split=None,\n",
              "                                                    min_samples_leaf=1,\n",
              "                                                    min_samples_split=2,\n",
              "                                                    min_weight_fraction_leaf=0.0,\n",
              "                                                    n_estimators=100,\n",
              "                                                    n_jobs...\n",
              "                   param_distributions={'criterion': ['gini', 'entropy'],\n",
              "                                        'max_depth': [5, 60, 115, 170, 225, 280,\n",
              "                                                      335, 390, 445, 500],\n",
              "                                        'max_features': ['auto', 'sqrt', 'log2',\n",
              "                                                         None],\n",
              "                                        'min_samples_leaf': [1, 2, 4, 6, 8],\n",
              "                                        'min_samples_split': [2, 5, 8, 10, 14],\n",
              "                                        'n_estimators': [10, 120, 230, 340, 450,\n",
              "                                                         560, 670, 780, 890,\n",
              "                                                         1000]},\n",
              "                   pre_dispatch='2*n_jobs', random_state=100, refit=True,\n",
              "                   return_train_score=False, scoring=None, verbose=2)"
            ]
          },
          "metadata": {
            "tags": []
          },
          "execution_count": 94
        }
      ]
    },
    {
      "cell_type": "code",
      "metadata": {
        "colab": {
          "base_uri": "https://localhost:8080/"
        },
        "id": "4spwMFupyFVN",
        "outputId": "c7aecbd0-6aa8-4f5c-9b6a-9a124c106e6c"
      },
      "source": [
        "rf_randomcv.best_params_"
      ],
      "execution_count": null,
      "outputs": [
        {
          "output_type": "execute_result",
          "data": {
            "text/plain": [
              "{'criterion': 'entropy',\n",
              " 'max_depth': 60,\n",
              " 'max_features': 'auto',\n",
              " 'min_samples_leaf': 1,\n",
              " 'min_samples_split': 2,\n",
              " 'n_estimators': 230}"
            ]
          },
          "metadata": {
            "tags": []
          },
          "execution_count": 95
        }
      ]
    },
    {
      "cell_type": "code",
      "metadata": {
        "colab": {
          "base_uri": "https://localhost:8080/"
        },
        "id": "2TIzOjui5Q5o",
        "outputId": "8f927e8a-b232-464a-a3c0-74b1d3571201"
      },
      "source": [
        "pred = rf_randomcv.predict(test_x)\n",
        "accuracy_score(test_y, pred)"
      ],
      "execution_count": null,
      "outputs": [
        {
          "output_type": "execute_result",
          "data": {
            "text/plain": [
              "0.8865306122448979"
            ]
          },
          "metadata": {
            "tags": []
          },
          "execution_count": 96
        }
      ]
    },
    {
      "cell_type": "markdown",
      "metadata": {
        "id": "IAv4eDQbJKSK"
      },
      "source": [
        "### GridSearch:"
      ]
    },
    {
      "cell_type": "code",
      "metadata": {
        "id": "6NP9nKeGJGQC"
      },
      "source": [
        "from sklearn.model_selection import GridSearchCV"
      ],
      "execution_count": null,
      "outputs": []
    },
    {
      "cell_type": "code",
      "metadata": {
        "colab": {
          "base_uri": "https://localhost:8080/"
        },
        "id": "mMAd7BveJQdq",
        "outputId": "78162124-e2dc-4c9f-ee21-04f52b937286"
      },
      "source": [
        "\n",
        "param_grid = {\n",
        "    'criterion': [rf_randomcv.best_params_['criterion']],\n",
        "    'max_depth': [rf_randomcv.best_params_['max_depth'], rf_randomcv.best_params_['max_depth']-10, rf_randomcv.best_params_['max_depth']+10],\n",
        "    'max_features': [rf_randomcv.best_params_['max_features']],\n",
        "    'min_samples_leaf': [rf_randomcv.best_params_['min_samples_leaf'], \n",
        "                         rf_randomcv.best_params_['min_samples_leaf']+1, \n",
        "                         rf_randomcv.best_params_['min_samples_leaf'] +2],\n",
        "    'min_samples_split': [rf_randomcv.best_params_['min_samples_split'] - 1,\n",
        "                          rf_randomcv.best_params_['min_samples_split'], \n",
        "                          rf_randomcv.best_params_['min_samples_split'] +1],\n",
        "    'n_estimators': [rf_randomcv.best_params_['n_estimators'] - 50, rf_randomcv.best_params_['n_estimators'] - 20, \n",
        "                     rf_randomcv.best_params_['n_estimators'], \n",
        "                     rf_randomcv.best_params_['n_estimators'] +50, rf_randomcv.best_params_['n_estimators'] +100\n",
        "                      ]\n",
        "              \n",
        "}\n",
        "print(param_grid)"
      ],
      "execution_count": null,
      "outputs": [
        {
          "output_type": "stream",
          "text": [
            "{'criterion': ['entropy'], 'max_depth': [60, 50, 70], 'max_features': ['auto'], 'min_samples_leaf': [1, 2, 3], 'min_samples_split': [1, 2, 3], 'n_estimators': [180, 210, 230, 280, 330]}\n"
          ],
          "name": "stdout"
        }
      ]
    },
    {
      "cell_type": "code",
      "metadata": {
        "colab": {
          "base_uri": "https://localhost:8080/"
        },
        "id": "hizl8zaqK1b4",
        "outputId": "3954ad78-a82e-43f2-93dd-24b6a26b35ca"
      },
      "source": [
        "#### Fit the grid_search to the data\n",
        "grid_search=GridSearchCV(estimator=rfc,param_grid=param_grid,cv=5,n_jobs=-1,verbose=2)\n",
        "grid_search.fit(train_x,train_y)"
      ],
      "execution_count": null,
      "outputs": [
        {
          "output_type": "stream",
          "text": [
            "Fitting 5 folds for each of 135 candidates, totalling 675 fits\n"
          ],
          "name": "stdout"
        },
        {
          "output_type": "stream",
          "text": [
            "[Parallel(n_jobs=-1)]: Using backend LokyBackend with 2 concurrent workers.\n",
            "[Parallel(n_jobs=-1)]: Done  37 tasks      | elapsed:   18.3s\n",
            "[Parallel(n_jobs=-1)]: Done 158 tasks      | elapsed:  2.4min\n",
            "[Parallel(n_jobs=-1)]: Done 361 tasks      | elapsed:  5.4min\n",
            "[Parallel(n_jobs=-1)]: Done 644 tasks      | elapsed:  9.6min\n",
            "[Parallel(n_jobs=-1)]: Done 675 out of 675 | elapsed: 10.2min finished\n"
          ],
          "name": "stderr"
        },
        {
          "output_type": "execute_result",
          "data": {
            "text/plain": [
              "GridSearchCV(cv=5, error_score=nan,\n",
              "             estimator=RandomForestClassifier(bootstrap=True, ccp_alpha=0.0,\n",
              "                                              class_weight=None,\n",
              "                                              criterion='gini', max_depth=None,\n",
              "                                              max_features='auto',\n",
              "                                              max_leaf_nodes=None,\n",
              "                                              max_samples=None,\n",
              "                                              min_impurity_decrease=0.0,\n",
              "                                              min_impurity_split=None,\n",
              "                                              min_samples_leaf=1,\n",
              "                                              min_samples_split=2,\n",
              "                                              min_weight_fraction_leaf=0.0,\n",
              "                                              n_estimators=100, n_jobs=None,\n",
              "                                              oob_score=False,\n",
              "                                              random_state=None, verbose=0,\n",
              "                                              warm_start=False),\n",
              "             iid='deprecated', n_jobs=-1,\n",
              "             param_grid={'criterion': ['entropy'], 'max_depth': [60, 50, 70],\n",
              "                         'max_features': ['auto'],\n",
              "                         'min_samples_leaf': [1, 2, 3],\n",
              "                         'min_samples_split': [1, 2, 3],\n",
              "                         'n_estimators': [180, 210, 230, 280, 330]},\n",
              "             pre_dispatch='2*n_jobs', refit=True, return_train_score=False,\n",
              "             scoring=None, verbose=2)"
            ]
          },
          "metadata": {
            "tags": []
          },
          "execution_count": 99
        }
      ]
    },
    {
      "cell_type": "code",
      "metadata": {
        "colab": {
          "base_uri": "https://localhost:8080/"
        },
        "id": "m7RgP41ZLSMo",
        "outputId": "258bb12d-d176-4cd8-b150-3566d37eac14"
      },
      "source": [
        "grid_search.best_params_"
      ],
      "execution_count": null,
      "outputs": [
        {
          "output_type": "execute_result",
          "data": {
            "text/plain": [
              "{'criterion': 'entropy',\n",
              " 'max_depth': 60,\n",
              " 'max_features': 'auto',\n",
              " 'min_samples_leaf': 1,\n",
              " 'min_samples_split': 3,\n",
              " 'n_estimators': 280}"
            ]
          },
          "metadata": {
            "tags": []
          },
          "execution_count": 100
        }
      ]
    },
    {
      "cell_type": "code",
      "metadata": {
        "id": "QT3_ZrmeN33I"
      },
      "source": [
        "best_grid = grid_search.best_estimator_\n",
        "pred = best_grid.predict(test_x)\n",
        "\n",
        "accuracy = accuracy_score(test_y, pred)"
      ],
      "execution_count": null,
      "outputs": []
    },
    {
      "cell_type": "code",
      "metadata": {
        "colab": {
          "base_uri": "https://localhost:8080/"
        },
        "id": "dldFVvOYOPN8",
        "outputId": "19762644-93b9-424d-a995-689d9894e97b"
      },
      "source": [
        "accuracy"
      ],
      "execution_count": null,
      "outputs": [
        {
          "output_type": "execute_result",
          "data": {
            "text/plain": [
              "0.8791836734693877"
            ]
          },
          "metadata": {
            "tags": []
          },
          "execution_count": 102
        }
      ]
    },
    {
      "cell_type": "markdown",
      "metadata": {
        "id": "mt__Cqk44Et-"
      },
      "source": [
        "### Genetic algorithms:"
      ]
    },
    {
      "cell_type": "code",
      "metadata": {
        "colab": {
          "base_uri": "https://localhost:8080/",
          "height": 799
        },
        "id": "TMElS9egOQ4m",
        "outputId": "c26d269d-fd97-453a-ce69-7856d235dab1"
      },
      "source": [
        "!pip install tpot"
      ],
      "execution_count": null,
      "outputs": [
        {
          "output_type": "stream",
          "text": [
            "Collecting tpot\n",
            "\u001b[?25l  Downloading https://files.pythonhosted.org/packages/b2/55/a7185198f554ea19758e5ac4641f100c94cba4585e738e2e48e3c40a0b7f/TPOT-0.11.7-py3-none-any.whl (87kB)\n",
            "\r\u001b[K     |███▊                            | 10kB 11.8MB/s eta 0:00:01\r\u001b[K     |███████▌                        | 20kB 13.7MB/s eta 0:00:01\r\u001b[K     |███████████▎                    | 30kB 6.9MB/s eta 0:00:01\r\u001b[K     |███████████████                 | 40kB 7.4MB/s eta 0:00:01\r\u001b[K     |██████████████████▉             | 51kB 4.1MB/s eta 0:00:01\r\u001b[K     |██████████████████████▋         | 61kB 4.6MB/s eta 0:00:01\r\u001b[K     |██████████████████████████▎     | 71kB 5.0MB/s eta 0:00:01\r\u001b[K     |██████████████████████████████  | 81kB 5.1MB/s eta 0:00:01\r\u001b[K     |████████████████████████████████| 92kB 3.6MB/s \n",
            "\u001b[?25hCollecting xgboost>=1.1.0\n",
            "\u001b[?25l  Downloading https://files.pythonhosted.org/packages/2e/57/bf5026701c384decd2b995eb39d86587a103ba4eb26f8a9b1811db0896d3/xgboost-1.3.3-py3-none-manylinux2010_x86_64.whl (157.5MB)\n",
            "\u001b[K     |████████████████████████████████| 157.5MB 93kB/s \n",
            "\u001b[?25hCollecting deap>=1.2\n",
            "\u001b[?25l  Downloading https://files.pythonhosted.org/packages/99/d1/803c7a387d8a7e6866160b1541307f88d534da4291572fb32f69d2548afb/deap-1.3.1-cp37-cp37m-manylinux2010_x86_64.whl (157kB)\n",
            "\u001b[K     |████████████████████████████████| 163kB 25.4MB/s \n",
            "\u001b[?25hRequirement already satisfied: tqdm>=4.36.1 in /usr/local/lib/python3.7/dist-packages (from tpot) (4.41.1)\n",
            "Requirement already satisfied: scikit-learn>=0.22.0 in /usr/local/lib/python3.7/dist-packages (from tpot) (0.22.2.post1)\n",
            "Requirement already satisfied: joblib>=0.13.2 in /usr/local/lib/python3.7/dist-packages (from tpot) (1.0.1)\n",
            "Requirement already satisfied: pandas>=0.24.2 in /usr/local/lib/python3.7/dist-packages (from tpot) (1.1.5)\n",
            "Collecting stopit>=1.1.1\n",
            "  Downloading https://files.pythonhosted.org/packages/35/58/e8bb0b0fb05baf07bbac1450c447d753da65f9701f551dca79823ce15d50/stopit-1.1.2.tar.gz\n",
            "Collecting update-checker>=0.16\n",
            "  Downloading https://files.pythonhosted.org/packages/0c/ba/8dd7fa5f0b1c6a8ac62f8f57f7e794160c1f86f31c6d0fb00f582372a3e4/update_checker-0.18.0-py3-none-any.whl\n",
            "Requirement already satisfied: numpy>=1.16.3 in /usr/local/lib/python3.7/dist-packages (from tpot) (1.19.5)\n",
            "Requirement already satisfied: scipy>=1.3.1 in /usr/local/lib/python3.7/dist-packages (from tpot) (1.4.1)\n",
            "Requirement already satisfied: pytz>=2017.2 in /usr/local/lib/python3.7/dist-packages (from pandas>=0.24.2->tpot) (2018.9)\n",
            "Requirement already satisfied: python-dateutil>=2.7.3 in /usr/local/lib/python3.7/dist-packages (from pandas>=0.24.2->tpot) (2.8.1)\n",
            "Requirement already satisfied: requests>=2.3.0 in /usr/local/lib/python3.7/dist-packages (from update-checker>=0.16->tpot) (2.23.0)\n",
            "Requirement already satisfied: six>=1.5 in /usr/local/lib/python3.7/dist-packages (from python-dateutil>=2.7.3->pandas>=0.24.2->tpot) (1.15.0)\n",
            "Requirement already satisfied: idna<3,>=2.5 in /usr/local/lib/python3.7/dist-packages (from requests>=2.3.0->update-checker>=0.16->tpot) (2.10)\n",
            "Requirement already satisfied: certifi>=2017.4.17 in /usr/local/lib/python3.7/dist-packages (from requests>=2.3.0->update-checker>=0.16->tpot) (2020.12.5)\n",
            "Requirement already satisfied: urllib3!=1.25.0,!=1.25.1,<1.26,>=1.21.1 in /usr/local/lib/python3.7/dist-packages (from requests>=2.3.0->update-checker>=0.16->tpot) (1.24.3)\n",
            "Requirement already satisfied: chardet<4,>=3.0.2 in /usr/local/lib/python3.7/dist-packages (from requests>=2.3.0->update-checker>=0.16->tpot) (3.0.4)\n",
            "Building wheels for collected packages: stopit\n",
            "  Building wheel for stopit (setup.py) ... \u001b[?25l\u001b[?25hdone\n",
            "  Created wheel for stopit: filename=stopit-1.1.2-cp37-none-any.whl size=11954 sha256=8053474b20dd221b1ca8fd3e6bf473f60c0393a005958fc89837ef7e69aad1ab\n",
            "  Stored in directory: /root/.cache/pip/wheels/3c/85/2b/2580190404636bfc63e8de3dff629c03bb795021e1983a6cc7\n",
            "Successfully built stopit\n",
            "Installing collected packages: xgboost, deap, stopit, update-checker, tpot\n",
            "  Found existing installation: xgboost 0.90\n",
            "    Uninstalling xgboost-0.90:\n",
            "      Successfully uninstalled xgboost-0.90\n",
            "Successfully installed deap-1.3.1 stopit-1.1.2 tpot-0.11.7 update-checker-0.18.0 xgboost-1.3.3\n"
          ],
          "name": "stdout"
        },
        {
          "output_type": "display_data",
          "data": {
            "application/vnd.colab-display-data+json": {
              "pip_warning": {
                "packages": [
                  "xgboost"
                ]
              }
            }
          },
          "metadata": {
            "tags": []
          }
        }
      ]
    },
    {
      "cell_type": "code",
      "metadata": {
        "id": "WympliJ0OifD",
        "colab": {
          "base_uri": "https://localhost:8080/"
        },
        "outputId": "601e1118-1d34-4177-eca8-830c100fb2a8"
      },
      "source": [
        "from tpot import TPOTClassifier\n"
      ],
      "execution_count": null,
      "outputs": [
        {
          "output_type": "stream",
          "text": [
            "/usr/local/lib/python3.7/dist-packages/sklearn/externals/six.py:31: FutureWarning: The module is deprecated in version 0.21 and will be removed in version 0.23 since we've dropped support for Python 2.7. Please rely on the official version of six (https://pypi.org/project/six/).\n",
            "  \"(https://pypi.org/project/six/).\", FutureWarning)\n",
            "/usr/local/lib/python3.7/dist-packages/sklearn/utils/deprecation.py:144: FutureWarning: The sklearn.neighbors.base module is  deprecated in version 0.22 and will be removed in version 0.24. The corresponding classes / functions should instead be imported from sklearn.neighbors. Anything that cannot be imported from sklearn.neighbors is now part of the private API.\n",
            "  warnings.warn(message, FutureWarning)\n"
          ],
          "name": "stderr"
        }
      ]
    },
    {
      "cell_type": "code",
      "metadata": {
        "colab": {
          "base_uri": "https://localhost:8080/"
        },
        "id": "OP4fCEFXOsME",
        "outputId": "bd02376a-4350-4151-94f4-2580366f54d8"
      },
      "source": [
        "n_estimators = [int(x) for x in np.linspace(start = 100, stop = 900, num = 10)]\n",
        "# Number of features to consider at every split\n",
        "max_features = ['auto', 'sqrt','log2']\n",
        "# Maximum number of levels in tree\n",
        "max_depth = [int(x) for x in np.linspace(10, 200,10)]\n",
        "# Minimum number of samples required to split a node\n",
        "min_samples_split = [2, 5, 10,14]\n",
        "# Minimum number of samples required at each leaf node\n",
        "min_samples_leaf = [1, 2, 4,6]\n",
        "# Create the random grid\n",
        "param = {'n_estimators': n_estimators,\n",
        "               'max_features': max_features,\n",
        "               'max_depth': max_depth,\n",
        "               'min_samples_split': min_samples_split,\n",
        "               'min_samples_leaf': min_samples_leaf\n",
        "              }\n",
        "print(param)\n"
      ],
      "execution_count": null,
      "outputs": [
        {
          "output_type": "stream",
          "text": [
            "{'n_estimators': [100, 188, 277, 366, 455, 544, 633, 722, 811, 900], 'max_features': ['auto', 'sqrt', 'log2'], 'max_depth': [10, 31, 52, 73, 94, 115, 136, 157, 178, 200], 'min_samples_split': [2, 5, 10, 14], 'min_samples_leaf': [1, 2, 4, 6]}\n"
          ],
          "name": "stdout"
        }
      ]
    },
    {
      "cell_type": "code",
      "metadata": {
        "colab": {
          "base_uri": "https://localhost:8080/",
          "height": 946,
          "referenced_widgets": [
            "2fbe01b166d143e592b1ebb1ad8676fb",
            "893ae662b3ab4f24aa2083d5b51ea0aa",
            "292badf8f5534a2e85a8c28148b3b21e",
            "0f7f536de2ab4fe99ada1638137aa747",
            "fabd9247d9de44979ad100d5d230facc",
            "281ff08f56b548f5b09b4b8b8d0d1ec8",
            "54022b2a78af4eda859b9f725d26d1f4",
            "5c2af8341edd4cb8a501dcdc494753b1"
          ]
        },
        "id": "CDWLrIqqPUlJ",
        "outputId": "e73453d1-b789-4e44-d296-3bf5a073f71d"
      },
      "source": [
        "tpot_classifier = TPOTClassifier(generations= 5, population_size= 24, offspring_size= 12,\n",
        "                                 verbosity= 2, early_stop= 12,\n",
        "                                 config_dict={'sklearn.ensemble.RandomForestClassifier': param}, \n",
        "                                 cv = 5, scoring = None)\n",
        "tpot_classifier.fit(train_x,train_y)"
      ],
      "execution_count": null,
      "outputs": [
        {
          "output_type": "display_data",
          "data": {
            "application/vnd.jupyter.widget-view+json": {
              "model_id": "2fbe01b166d143e592b1ebb1ad8676fb",
              "version_minor": 0,
              "version_major": 2
            },
            "text/plain": [
              "HBox(children=(FloatProgress(value=0.0, description='Optimization Progress', max=84.0, style=ProgressStyle(des…"
            ]
          },
          "metadata": {
            "tags": []
          }
        },
        {
          "output_type": "stream",
          "text": [
            "\r\n",
            "Generation 1 - Current best internal CV score: 0.8706752673821573\n",
            "\n",
            "Generation 2 - Current best internal CV score: 0.8714919646332648\n",
            "\n",
            "Generation 3 - Current best internal CV score: 0.873125729855975\n",
            "\n",
            "Generation 4 - Current best internal CV score: 0.873125729855975\n",
            "\n",
            "Generation 5 - Current best internal CV score: 0.873125729855975\n",
            "\n",
            "Best pipeline: RandomForestClassifier(RandomForestClassifier(RandomForestClassifier(RandomForestClassifier(input_matrix, max_depth=136, max_features=sqrt, min_samples_leaf=1, min_samples_split=2, n_estimators=455), max_depth=10, max_features=auto, min_samples_leaf=2, min_samples_split=2, n_estimators=900), max_depth=136, max_features=auto, min_samples_leaf=6, min_samples_split=2, n_estimators=188), max_depth=31, max_features=log2, min_samples_leaf=1, min_samples_split=5, n_estimators=277)\n"
          ],
          "name": "stdout"
        },
        {
          "output_type": "execute_result",
          "data": {
            "text/plain": [
              "TPOTClassifier(config_dict={'sklearn.ensemble.RandomForestClassifier': {'max_depth': [10,\n",
              "                                                                                      31,\n",
              "                                                                                      52,\n",
              "                                                                                      73,\n",
              "                                                                                      94,\n",
              "                                                                                      115,\n",
              "                                                                                      136,\n",
              "                                                                                      157,\n",
              "                                                                                      178,\n",
              "                                                                                      200],\n",
              "                                                                        'max_features': ['auto',\n",
              "                                                                                         'sqrt',\n",
              "                                                                                         'log2'],\n",
              "                                                                        'min_samples_leaf': [1,\n",
              "                                                                                             2,\n",
              "                                                                                             4,\n",
              "                                                                                             6],\n",
              "                                                                        'min_samples_split': [2,\n",
              "                                                                                              5,\n",
              "                                                                                              10,\n",
              "                                                                                              14],\n",
              "                                                                        'n_estimators': [100,\n",
              "                                                                                         188,\n",
              "                                                                                         277,\n",
              "                                                                                         366,\n",
              "                                                                                         455,\n",
              "                                                                                         544,\n",
              "                                                                                         633,\n",
              "                                                                                         722,\n",
              "                                                                                         811,\n",
              "                                                                                         900]}},\n",
              "               crossover_rate=0.1, cv=5, disable_update_check=False,\n",
              "               early_stop=12, generations=5, log_file=None,\n",
              "               max_eval_time_mins=5, max_time_mins=None, memory=None,\n",
              "               mutation_rate=0.9, n_jobs=1, offspring_size=12,\n",
              "               periodic_checkpoint_folder=None, population_size=24,\n",
              "               random_state=None, scoring=None, subsample=1.0, template=None,\n",
              "               use_dask=False, verbosity=2, warm_start=False)"
            ]
          },
          "metadata": {
            "tags": []
          },
          "execution_count": 106
        }
      ]
    },
    {
      "cell_type": "code",
      "metadata": {
        "colab": {
          "base_uri": "https://localhost:8080/"
        },
        "id": "0nCIB8PwPWrc",
        "outputId": "79a0f2af-d0ee-47ca-ad39-29ebf09aad5e"
      },
      "source": [
        "pred = tpot_classifier.predict(test_x)\n",
        "accuracy_score(test_y, pred)"
      ],
      "execution_count": null,
      "outputs": [
        {
          "output_type": "execute_result",
          "data": {
            "text/plain": [
              "0.8873469387755102"
            ]
          },
          "metadata": {
            "tags": []
          },
          "execution_count": 107
        }
      ]
    },
    {
      "cell_type": "markdown",
      "metadata": {
        "id": "JvTuPtq235y0"
      },
      "source": [
        "## Accuracy:\n"
      ]
    },
    {
      "cell_type": "code",
      "metadata": {
        "id": "XulBXKUYWoMy"
      },
      "source": [
        "from sklearn.metrics import confusion_matrix\n",
        "from sklearn.metrics import classification_report"
      ],
      "execution_count": null,
      "outputs": []
    },
    {
      "cell_type": "code",
      "metadata": {
        "colab": {
          "base_uri": "https://localhost:8080/"
        },
        "id": "hQv93YWNXB9-",
        "outputId": "e2fda80c-b20f-4ba1-d674-2b5eadd06f4e"
      },
      "source": [
        "confusion_matrix(test_y, pred)"
      ],
      "execution_count": null,
      "outputs": [
        {
          "output_type": "execute_result",
          "data": {
            "text/plain": [
              "array([[917,  39],\n",
              "       [ 99, 170]])"
            ]
          },
          "metadata": {
            "tags": []
          },
          "execution_count": 109
        }
      ]
    },
    {
      "cell_type": "code",
      "metadata": {
        "colab": {
          "base_uri": "https://localhost:8080/"
        },
        "id": "sXla-8xlXilz",
        "outputId": "50611fb3-263b-4f4a-d4d6-cbaafb5d3f5f"
      },
      "source": [
        "print(classification_report(test_y, pred))"
      ],
      "execution_count": null,
      "outputs": [
        {
          "output_type": "stream",
          "text": [
            "              precision    recall  f1-score   support\n",
            "\n",
            "           0       0.90      0.96      0.93       956\n",
            "           1       0.81      0.63      0.71       269\n",
            "\n",
            "    accuracy                           0.89      1225\n",
            "   macro avg       0.86      0.80      0.82      1225\n",
            "weighted avg       0.88      0.89      0.88      1225\n",
            "\n"
          ],
          "name": "stdout"
        }
      ]
    },
    {
      "cell_type": "code",
      "metadata": {
        "id": "nRZ_vgcNZfEO"
      },
      "source": [
        ""
      ],
      "execution_count": null,
      "outputs": []
    }
  ]
}